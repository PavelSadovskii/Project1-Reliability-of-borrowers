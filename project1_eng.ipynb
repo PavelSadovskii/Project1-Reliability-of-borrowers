{
 "cells": [
  {
   "cell_type": "markdown",
   "id": "5b637b95",
   "metadata": {
    "toc": true
   },
   "source": [
    "<h1>Table of Contents<span class=\"tocSkip\"></span></h1>\n",
    "<div class=\"toc\"><ul class=\"toc-item\"><li><span><a href=\"#Open-the-table-and-examine-the-general-information-about-the-data\" data-toc-modified-id=\"Open-the-table-and-examine-the-general-information-about-the-data-1\"><span class=\"toc-item-num\">1&nbsp;&nbsp;</span>Open the table and examine the general information about the data</a></span></li><li><span><a href=\"#Data-preprocessing\" data-toc-modified-id=\"Data-preprocessing-2\"><span class=\"toc-item-num\">2&nbsp;&nbsp;</span>Data preprocessing</a></span><ul class=\"toc-item\"><li><span><a href=\"#Remove-gaps\" data-toc-modified-id=\"Remove-gaps-2.1\"><span class=\"toc-item-num\">2.1&nbsp;&nbsp;</span>Remove gaps</a></span></li><li><span><a href=\"#Handling-anomalous-values\" data-toc-modified-id=\"Handling-anomalous-values-2.2\"><span class=\"toc-item-num\">2.2&nbsp;&nbsp;</span>Handling anomalous values</a></span></li><li><span><a href=\"#Removing-gaps-(continued)\" data-toc-modified-id=\"Removing-gaps-(continued)-2.3\"><span class=\"toc-item-num\">2.3&nbsp;&nbsp;</span>Removing gaps (continued)</a></span></li><li><span><a href=\"#Changing-data-types\" data-toc-modified-id=\"Changing-data-types-2.4\"><span class=\"toc-item-num\">2.4&nbsp;&nbsp;</span>Changing data types</a></span></li><li><span><a href=\"#Handling-duplicates\" data-toc-modified-id=\"Handling-duplicates-2.5\"><span class=\"toc-item-num\">2.5&nbsp;&nbsp;</span>Handling duplicates</a></span></li><li><span><a href=\"#Data-categorization\" data-toc-modified-id=\"Data-categorization-2.6\"><span class=\"toc-item-num\">2.6&nbsp;&nbsp;</span>Data categorization</a></span></li><li><span><a href=\"#Explore-data-and-answer-questions\" data-toc-modified-id=\"Explore-data-and-answer-questions-2.7\"><span class=\"toc-item-num\">2.7&nbsp;&nbsp;</span>Explore data and answer questions</a></span><ul class=\"toc-item\"><li><span><a href=\"#Is-there-a-relationship-between-the-number-of-children-and-loan-repayment-on-time?\" data-toc-modified-id=\"Is-there-a-relationship-between-the-number-of-children-and-loan-repayment-on-time?-2.7.1\"><span class=\"toc-item-num\">2.7.1&nbsp;&nbsp;</span>Is there a relationship between the number of children and loan repayment on time?</a></span></li><li><span><a href=\"#Is-there-a-relationship-between-marital-status-and-loan-repayment-on-time?\" data-toc-modified-id=\"Is-there-a-relationship-between-marital-status-and-loan-repayment-on-time?-2.7.2\"><span class=\"toc-item-num\">2.7.2&nbsp;&nbsp;</span>Is there a relationship between marital status and loan repayment on time?</a></span></li><li><span><a href=\"#Is-there-a-relationship-between-income-level-and-loan-repayment-on-time?\" data-toc-modified-id=\"Is-there-a-relationship-between-income-level-and-loan-repayment-on-time?-2.7.3\"><span class=\"toc-item-num\">2.7.3&nbsp;&nbsp;</span>Is there a relationship between income level and loan repayment on time?</a></span></li><li><span><a href=\"#How-do-different-purposes-of-a-loan-affect-its-repayment-on-time?\" data-toc-modified-id=\"How-do-different-purposes-of-a-loan-affect-its-repayment-on-time?-2.7.4\"><span class=\"toc-item-num\">2.7.4&nbsp;&nbsp;</span>How do different purposes of a loan affect its repayment on time?</a></span></li><li><span><a href=\"#Give-possible-reasons-for-gaps-in-the-original-data.\" data-toc-modified-id=\"Give-possible-reasons-for-gaps-in-the-original-data.-2.7.5\"><span class=\"toc-item-num\">2.7.5&nbsp;&nbsp;</span>Give possible reasons for gaps in the original data.</a></span></li><li><span><a href=\"#Explain-why-filling-in-the-gaps-with-the-median-is-the-best-solution-for-scale-variables.\" data-toc-modified-id=\"Explain-why-filling-in-the-gaps-with-the-median-is-the-best-solution-for-scale-variables.-2.7.6\"><span class=\"toc-item-num\">2.7.6&nbsp;&nbsp;</span>Explain why filling in the gaps with the median is the best solution for scale variables.</a></span></li></ul></li><li><span><a href=\"#General-conclusion\" data-toc-modified-id=\"General-conclusion-2.8\"><span class=\"toc-item-num\">2.8&nbsp;&nbsp;</span>General conclusion</a></span></li></ul></li></ul></div>"
   ]
  },
  {
   "cell_type": "markdown",
   "id": "875dbf3a",
   "metadata": {},
   "source": [
    "# Research of reliability of borrowers"
   ]
  },
  {
   "cell_type": "markdown",
   "id": "688ee139",
   "metadata": {},
   "source": [
    "## Open the table and examine the general information about the data"
   ]
  },
  {
   "cell_type": "markdown",
   "id": "91de1aaf",
   "metadata": {},
   "source": [
    "**Task 1. Import the `pandas` library. Read the data from the csv file into a dataframe and store it in the `data` variable. The path to the file:**\n",
    "\n",
    "`/datasets/data.csv`"
   ]
  },
  {
   "cell_type": "code",
   "execution_count": 1,
   "id": "71780335",
   "metadata": {
    "ExecuteTime": {
     "end_time": "2023-07-21T17:13:30.104069Z",
     "start_time": "2023-07-21T17:13:27.511376Z"
    }
   },
   "outputs": [],
   "source": [
    "import pandas as pd\n",
    "try:\n",
    "    data = pd.read_csv('/datasets/data.csv')\n",
    "except:\n",
    "    data = pd.read_csv('https://code.s3.yandex.net/datasets/data.csv')"
   ]
  },
  {
   "cell_type": "markdown",
   "id": "43d42624",
   "metadata": {},
   "source": [
    "**Task 2. Display the first 20 lines of dataframe `data` on the screen.**"
   ]
  },
  {
   "cell_type": "code",
   "execution_count": 2,
   "id": "05b4aa26",
   "metadata": {
    "ExecuteTime": {
     "end_time": "2023-07-21T17:13:30.154734Z",
     "start_time": "2023-07-21T17:13:30.109798Z"
    }
   },
   "outputs": [
    {
     "data": {
      "text/html": [
       "<div>\n",
       "<style scoped>\n",
       "    .dataframe tbody tr th:only-of-type {\n",
       "        vertical-align: middle;\n",
       "    }\n",
       "\n",
       "    .dataframe tbody tr th {\n",
       "        vertical-align: top;\n",
       "    }\n",
       "\n",
       "    .dataframe thead th {\n",
       "        text-align: right;\n",
       "    }\n",
       "</style>\n",
       "<table border=\"1\" class=\"dataframe\">\n",
       "  <thead>\n",
       "    <tr style=\"text-align: right;\">\n",
       "      <th></th>\n",
       "      <th>children</th>\n",
       "      <th>days_employed</th>\n",
       "      <th>dob_years</th>\n",
       "      <th>education</th>\n",
       "      <th>education_id</th>\n",
       "      <th>family_status</th>\n",
       "      <th>family_status_id</th>\n",
       "      <th>gender</th>\n",
       "      <th>income_type</th>\n",
       "      <th>debt</th>\n",
       "      <th>total_income</th>\n",
       "      <th>purpose</th>\n",
       "    </tr>\n",
       "  </thead>\n",
       "  <tbody>\n",
       "    <tr>\n",
       "      <th>0</th>\n",
       "      <td>1</td>\n",
       "      <td>-8437.673028</td>\n",
       "      <td>42</td>\n",
       "      <td>высшее</td>\n",
       "      <td>0</td>\n",
       "      <td>женат / замужем</td>\n",
       "      <td>0</td>\n",
       "      <td>F</td>\n",
       "      <td>сотрудник</td>\n",
       "      <td>0</td>\n",
       "      <td>253875.639453</td>\n",
       "      <td>покупка жилья</td>\n",
       "    </tr>\n",
       "    <tr>\n",
       "      <th>1</th>\n",
       "      <td>1</td>\n",
       "      <td>-4024.803754</td>\n",
       "      <td>36</td>\n",
       "      <td>среднее</td>\n",
       "      <td>1</td>\n",
       "      <td>женат / замужем</td>\n",
       "      <td>0</td>\n",
       "      <td>F</td>\n",
       "      <td>сотрудник</td>\n",
       "      <td>0</td>\n",
       "      <td>112080.014102</td>\n",
       "      <td>приобретение автомобиля</td>\n",
       "    </tr>\n",
       "    <tr>\n",
       "      <th>2</th>\n",
       "      <td>0</td>\n",
       "      <td>-5623.422610</td>\n",
       "      <td>33</td>\n",
       "      <td>Среднее</td>\n",
       "      <td>1</td>\n",
       "      <td>женат / замужем</td>\n",
       "      <td>0</td>\n",
       "      <td>M</td>\n",
       "      <td>сотрудник</td>\n",
       "      <td>0</td>\n",
       "      <td>145885.952297</td>\n",
       "      <td>покупка жилья</td>\n",
       "    </tr>\n",
       "    <tr>\n",
       "      <th>3</th>\n",
       "      <td>3</td>\n",
       "      <td>-4124.747207</td>\n",
       "      <td>32</td>\n",
       "      <td>среднее</td>\n",
       "      <td>1</td>\n",
       "      <td>женат / замужем</td>\n",
       "      <td>0</td>\n",
       "      <td>M</td>\n",
       "      <td>сотрудник</td>\n",
       "      <td>0</td>\n",
       "      <td>267628.550329</td>\n",
       "      <td>дополнительное образование</td>\n",
       "    </tr>\n",
       "    <tr>\n",
       "      <th>4</th>\n",
       "      <td>0</td>\n",
       "      <td>340266.072047</td>\n",
       "      <td>53</td>\n",
       "      <td>среднее</td>\n",
       "      <td>1</td>\n",
       "      <td>гражданский брак</td>\n",
       "      <td>1</td>\n",
       "      <td>F</td>\n",
       "      <td>пенсионер</td>\n",
       "      <td>0</td>\n",
       "      <td>158616.077870</td>\n",
       "      <td>сыграть свадьбу</td>\n",
       "    </tr>\n",
       "    <tr>\n",
       "      <th>5</th>\n",
       "      <td>0</td>\n",
       "      <td>-926.185831</td>\n",
       "      <td>27</td>\n",
       "      <td>высшее</td>\n",
       "      <td>0</td>\n",
       "      <td>гражданский брак</td>\n",
       "      <td>1</td>\n",
       "      <td>M</td>\n",
       "      <td>компаньон</td>\n",
       "      <td>0</td>\n",
       "      <td>255763.565419</td>\n",
       "      <td>покупка жилья</td>\n",
       "    </tr>\n",
       "    <tr>\n",
       "      <th>6</th>\n",
       "      <td>0</td>\n",
       "      <td>-2879.202052</td>\n",
       "      <td>43</td>\n",
       "      <td>высшее</td>\n",
       "      <td>0</td>\n",
       "      <td>женат / замужем</td>\n",
       "      <td>0</td>\n",
       "      <td>F</td>\n",
       "      <td>компаньон</td>\n",
       "      <td>0</td>\n",
       "      <td>240525.971920</td>\n",
       "      <td>операции с жильем</td>\n",
       "    </tr>\n",
       "    <tr>\n",
       "      <th>7</th>\n",
       "      <td>0</td>\n",
       "      <td>-152.779569</td>\n",
       "      <td>50</td>\n",
       "      <td>СРЕДНЕЕ</td>\n",
       "      <td>1</td>\n",
       "      <td>женат / замужем</td>\n",
       "      <td>0</td>\n",
       "      <td>M</td>\n",
       "      <td>сотрудник</td>\n",
       "      <td>0</td>\n",
       "      <td>135823.934197</td>\n",
       "      <td>образование</td>\n",
       "    </tr>\n",
       "    <tr>\n",
       "      <th>8</th>\n",
       "      <td>2</td>\n",
       "      <td>-6929.865299</td>\n",
       "      <td>35</td>\n",
       "      <td>ВЫСШЕЕ</td>\n",
       "      <td>0</td>\n",
       "      <td>гражданский брак</td>\n",
       "      <td>1</td>\n",
       "      <td>F</td>\n",
       "      <td>сотрудник</td>\n",
       "      <td>0</td>\n",
       "      <td>95856.832424</td>\n",
       "      <td>на проведение свадьбы</td>\n",
       "    </tr>\n",
       "    <tr>\n",
       "      <th>9</th>\n",
       "      <td>0</td>\n",
       "      <td>-2188.756445</td>\n",
       "      <td>41</td>\n",
       "      <td>среднее</td>\n",
       "      <td>1</td>\n",
       "      <td>женат / замужем</td>\n",
       "      <td>0</td>\n",
       "      <td>M</td>\n",
       "      <td>сотрудник</td>\n",
       "      <td>0</td>\n",
       "      <td>144425.938277</td>\n",
       "      <td>покупка жилья для семьи</td>\n",
       "    </tr>\n",
       "  </tbody>\n",
       "</table>\n",
       "</div>"
      ],
      "text/plain": [
       "   children  days_employed  dob_years education  education_id  \\\n",
       "0         1   -8437.673028         42    высшее             0   \n",
       "1         1   -4024.803754         36   среднее             1   \n",
       "2         0   -5623.422610         33   Среднее             1   \n",
       "3         3   -4124.747207         32   среднее             1   \n",
       "4         0  340266.072047         53   среднее             1   \n",
       "5         0    -926.185831         27    высшее             0   \n",
       "6         0   -2879.202052         43    высшее             0   \n",
       "7         0    -152.779569         50   СРЕДНЕЕ             1   \n",
       "8         2   -6929.865299         35    ВЫСШЕЕ             0   \n",
       "9         0   -2188.756445         41   среднее             1   \n",
       "\n",
       "      family_status  family_status_id gender income_type  debt   total_income  \\\n",
       "0   женат / замужем                 0      F   сотрудник     0  253875.639453   \n",
       "1   женат / замужем                 0      F   сотрудник     0  112080.014102   \n",
       "2   женат / замужем                 0      M   сотрудник     0  145885.952297   \n",
       "3   женат / замужем                 0      M   сотрудник     0  267628.550329   \n",
       "4  гражданский брак                 1      F   пенсионер     0  158616.077870   \n",
       "5  гражданский брак                 1      M   компаньон     0  255763.565419   \n",
       "6   женат / замужем                 0      F   компаньон     0  240525.971920   \n",
       "7   женат / замужем                 0      M   сотрудник     0  135823.934197   \n",
       "8  гражданский брак                 1      F   сотрудник     0   95856.832424   \n",
       "9   женат / замужем                 0      M   сотрудник     0  144425.938277   \n",
       "\n",
       "                      purpose  \n",
       "0               покупка жилья  \n",
       "1     приобретение автомобиля  \n",
       "2               покупка жилья  \n",
       "3  дополнительное образование  \n",
       "4             сыграть свадьбу  \n",
       "5               покупка жилья  \n",
       "6           операции с жильем  \n",
       "7                 образование  \n",
       "8       на проведение свадьбы  \n",
       "9     покупка жилья для семьи  "
      ]
     },
     "execution_count": 2,
     "metadata": {},
     "output_type": "execute_result"
    }
   ],
   "source": [
    "data.head(10)"
   ]
  },
  {
   "cell_type": "markdown",
   "id": "4f2b49aa",
   "metadata": {},
   "source": [
    "**Task 3. Display basic dataframe information using the `info()` method.**"
   ]
  },
  {
   "cell_type": "code",
   "execution_count": 3,
   "id": "07deb76f",
   "metadata": {
    "ExecuteTime": {
     "end_time": "2023-07-21T17:13:30.214842Z",
     "start_time": "2023-07-21T17:13:30.160311Z"
    }
   },
   "outputs": [
    {
     "name": "stdout",
     "output_type": "stream",
     "text": [
      "<class 'pandas.core.frame.DataFrame'>\n",
      "RangeIndex: 21525 entries, 0 to 21524\n",
      "Data columns (total 12 columns):\n",
      " #   Column            Non-Null Count  Dtype  \n",
      "---  ------            --------------  -----  \n",
      " 0   children          21525 non-null  int64  \n",
      " 1   days_employed     19351 non-null  float64\n",
      " 2   dob_years         21525 non-null  int64  \n",
      " 3   education         21525 non-null  object \n",
      " 4   education_id      21525 non-null  int64  \n",
      " 5   family_status     21525 non-null  object \n",
      " 6   family_status_id  21525 non-null  int64  \n",
      " 7   gender            21525 non-null  object \n",
      " 8   income_type       21525 non-null  object \n",
      " 9   debt              21525 non-null  int64  \n",
      " 10  total_income      19351 non-null  float64\n",
      " 11  purpose           21525 non-null  object \n",
      "dtypes: float64(2), int64(5), object(5)\n",
      "memory usage: 2.0+ MB\n"
     ]
    }
   ],
   "source": [
    "data.info()"
   ]
  },
  {
   "cell_type": "markdown",
   "id": "e9085d36",
   "metadata": {},
   "source": [
    "## Data preprocessing"
   ]
  },
  {
   "cell_type": "markdown",
   "id": "af14db6d",
   "metadata": {},
   "source": [
    "### Remove gaps"
   ]
  },
  {
   "cell_type": "markdown",
   "id": "f940031e",
   "metadata": {},
   "source": [
    "**Task 4. Print the number of missing values ​​for each column. Use a combination of the two methods.**"
   ]
  },
  {
   "cell_type": "code",
   "execution_count": 4,
   "id": "118f1823",
   "metadata": {
    "ExecuteTime": {
     "end_time": "2023-07-21T17:13:30.262168Z",
     "start_time": "2023-07-21T17:13:30.222992Z"
    }
   },
   "outputs": [
    {
     "data": {
      "text/plain": [
       "children               0\n",
       "days_employed       2174\n",
       "dob_years              0\n",
       "education              0\n",
       "education_id           0\n",
       "family_status          0\n",
       "family_status_id       0\n",
       "gender                 0\n",
       "income_type            0\n",
       "debt                   0\n",
       "total_income        2174\n",
       "purpose                0\n",
       "dtype: int64"
      ]
     },
     "execution_count": 4,
     "metadata": {},
     "output_type": "execute_result"
    }
   ],
   "source": [
    "data.isna().sum()"
   ]
  },
  {
   "cell_type": "markdown",
   "id": "0cc99d8f",
   "metadata": {},
   "source": [
    "**Task 5. There are missing values ​​in two columns. One of them is `days_employed`. The gaps in this column will be dealt with in the next step. Another column with missing values, `total_income`, stores income data. The amount of income is most affected by the type of employment, so fill in the gaps in this column with the median value for each type from the `income_type` column. For example, for a person with an employment type of `employee`, the gap in the `total_income` column must be filled by the median income among all records with the same type.**"
   ]
  },
  {
   "cell_type": "code",
   "execution_count": 5,
   "id": "70870496",
   "metadata": {
    "ExecuteTime": {
     "end_time": "2023-07-21T17:13:30.335395Z",
     "start_time": "2023-07-21T17:13:30.268320Z"
    }
   },
   "outputs": [],
   "source": [
    "for t in data['income_type'].unique():\n",
    "    data.loc[(data['income_type'] == t) & (data['total_income'].isna()), 'total_income'] = \\\n",
    "    data.loc[(data['income_type'] == t), 'total_income'].median()"
   ]
  },
  {
   "cell_type": "markdown",
   "id": "584966b1",
   "metadata": {},
   "source": [
    "### Handling anomalous values"
   ]
  },
  {
   "cell_type": "markdown",
   "id": "52ad7d88",
   "metadata": {},
   "source": [
    "**Task 6. Artifacts (anomalies) may occur in the data - values ​​that do not reflect reality and appeared due to some kind of error. such an artifact would be the negative number of days of work experience in the `days_employed` column. For real data, this is normal. Process the values ​​in this column: replace all negative values ​​with positive ones using the `abs()` method.**"
   ]
  },
  {
   "cell_type": "code",
   "execution_count": 6,
   "id": "756b8834",
   "metadata": {
    "ExecuteTime": {
     "end_time": "2023-07-21T17:13:30.347077Z",
     "start_time": "2023-07-21T17:13:30.339139Z"
    }
   },
   "outputs": [],
   "source": [
    "data['days_employed'] = data['days_employed'].abs()"
   ]
  },
  {
   "cell_type": "markdown",
   "id": "43fbd6cf",
   "metadata": {},
   "source": [
    "**Task 7. For each type of employment, print the median `days_employed` in days.**"
   ]
  },
  {
   "cell_type": "code",
   "execution_count": 7,
   "id": "2f14d99e",
   "metadata": {
    "ExecuteTime": {
     "end_time": "2023-07-21T17:13:30.373199Z",
     "start_time": "2023-07-21T17:13:30.354109Z"
    }
   },
   "outputs": [
    {
     "data": {
      "text/plain": [
       "income_type\n",
       "безработный        366413.652744\n",
       "в декрете            3296.759962\n",
       "госслужащий          2689.368353\n",
       "компаньон            1547.382223\n",
       "пенсионер          365213.306266\n",
       "предприниматель       520.848083\n",
       "сотрудник            1574.202821\n",
       "студент               578.751554\n",
       "Name: days_employed, dtype: float64"
      ]
     },
     "execution_count": 7,
     "metadata": {},
     "output_type": "execute_result"
    }
   ],
   "source": [
    "data.groupby('income_type')['days_employed'].agg('median')"
   ]
  },
  {
   "cell_type": "markdown",
   "id": "be03b528",
   "metadata": {},
   "source": [
    "Two types (unemployed and pensioners) will get abnormally large values. Correcting such values ​​is difficult, so leave them as they are. Moreover, you will not need this column for research."
   ]
  },
  {
   "cell_type": "markdown",
   "id": "83ef6012",
   "metadata": {},
   "source": [
    "**Task 8. List the unique values ​​of the `children` column.**"
   ]
  },
  {
   "cell_type": "code",
   "execution_count": 8,
   "id": "86a2a891",
   "metadata": {
    "ExecuteTime": {
     "end_time": "2023-07-21T17:13:30.391337Z",
     "start_time": "2023-07-21T17:13:30.378955Z"
    }
   },
   "outputs": [
    {
     "data": {
      "text/plain": [
       "array([ 1,  0,  3,  2, -1,  4, 20,  5])"
      ]
     },
     "execution_count": 8,
     "metadata": {},
     "output_type": "execute_result"
    }
   ],
   "source": [
    "data['children'].unique()"
   ]
  },
  {
   "cell_type": "markdown",
   "id": "ba741fde",
   "metadata": {},
   "source": [
    "**Task 9. There are two abnormal values ​​in the `children` column. Remove lines containing such anomalous values ​​from the `data` dataframe.**"
   ]
  },
  {
   "cell_type": "code",
   "execution_count": 9,
   "id": "cb193081",
   "metadata": {
    "ExecuteTime": {
     "end_time": "2023-07-21T17:13:30.412462Z",
     "start_time": "2023-07-21T17:13:30.397178Z"
    }
   },
   "outputs": [],
   "source": [
    "data = data[(data['children'] != -1) & (data['children'] != 20)]"
   ]
  },
  {
   "cell_type": "markdown",
   "id": "cc1bb835",
   "metadata": {},
   "source": [
    "**Task 10. List the unique values ​​of the `children` column again to make sure the artifacts have been removed.**"
   ]
  },
  {
   "cell_type": "code",
   "execution_count": 10,
   "id": "f1579a36",
   "metadata": {
    "ExecuteTime": {
     "end_time": "2023-07-21T17:13:30.434328Z",
     "start_time": "2023-07-21T17:13:30.422548Z"
    }
   },
   "outputs": [
    {
     "data": {
      "text/plain": [
       "array([1, 0, 3, 2, 4, 5])"
      ]
     },
     "execution_count": 10,
     "metadata": {},
     "output_type": "execute_result"
    }
   ],
   "source": [
    "data['children'].unique()"
   ]
  },
  {
   "cell_type": "markdown",
   "id": "ca10d26c",
   "metadata": {},
   "source": [
    "### Removing gaps (continued)"
   ]
  },
  {
   "cell_type": "markdown",
   "id": "64598d86",
   "metadata": {},
   "source": [
    "**Task 11. Fill in the gaps in the `days_employed` column with the median values ​​for each `income_type` employment type.**"
   ]
  },
  {
   "cell_type": "code",
   "execution_count": 11,
   "id": "5375e2f8",
   "metadata": {
    "ExecuteTime": {
     "end_time": "2023-07-21T17:13:30.509005Z",
     "start_time": "2023-07-21T17:13:30.440177Z"
    }
   },
   "outputs": [],
   "source": [
    "for t in data['income_type'].unique():\n",
    "    data.loc[(data['income_type'] == t) & (data['days_employed'].isna()), 'days_employed'] = \\\n",
    "    data.loc[(data['income_type'] == t), 'days_employed'].median()"
   ]
  },
  {
   "cell_type": "markdown",
   "id": "adf2ad7a",
   "metadata": {},
   "source": [
    "**Task 12. Make sure all gaps are filled. Test yourself and print the number of missing values for each column again using two methods.**"
   ]
  },
  {
   "cell_type": "code",
   "execution_count": 12,
   "id": "47a5ac3f",
   "metadata": {
    "ExecuteTime": {
     "end_time": "2023-07-21T17:13:30.570803Z",
     "start_time": "2023-07-21T17:13:30.514072Z"
    }
   },
   "outputs": [
    {
     "data": {
      "text/plain": [
       "children            0\n",
       "days_employed       0\n",
       "dob_years           0\n",
       "education           0\n",
       "education_id        0\n",
       "family_status       0\n",
       "family_status_id    0\n",
       "gender              0\n",
       "income_type         0\n",
       "debt                0\n",
       "total_income        0\n",
       "purpose             0\n",
       "dtype: int64"
      ]
     },
     "execution_count": 12,
     "metadata": {},
     "output_type": "execute_result"
    }
   ],
   "source": [
    "data.isna().sum()"
   ]
  },
  {
   "cell_type": "markdown",
   "id": "7a99d2aa",
   "metadata": {},
   "source": [
    "### Changing data types"
   ]
  },
  {
   "cell_type": "markdown",
   "id": "b193bf2a",
   "metadata": {},
   "source": [
    "**Task 13. Replace the real data type in the `total_income` column with an integer using the `astype()` method.**"
   ]
  },
  {
   "cell_type": "code",
   "execution_count": 13,
   "id": "0c3fa4b9",
   "metadata": {
    "ExecuteTime": {
     "end_time": "2023-07-21T17:13:30.586592Z",
     "start_time": "2023-07-21T17:13:30.576735Z"
    }
   },
   "outputs": [],
   "source": [
    "data['total_income'] = data['total_income'].astype(int)"
   ]
  },
  {
   "cell_type": "markdown",
   "id": "679a139c",
   "metadata": {},
   "source": [
    "### Handling duplicates"
   ]
  },
  {
   "cell_type": "markdown",
   "id": "e76e2827",
   "metadata": {},
   "source": [
    "**Task 14. Handle implicit duplicates in the `education` column. This column has the same values, but written differently: using uppercase and lowercase letters. Convert them to lower case. Check other columns.**"
   ]
  },
  {
   "cell_type": "code",
   "execution_count": 14,
   "id": "32719881",
   "metadata": {
    "ExecuteTime": {
     "end_time": "2023-07-21T17:13:30.621052Z",
     "start_time": "2023-07-21T17:13:30.591772Z"
    }
   },
   "outputs": [],
   "source": [
    "data['education'] = data['education'].str.lower()"
   ]
  },
  {
   "cell_type": "markdown",
   "id": "1d8e4b46",
   "metadata": {},
   "source": [
    "**Task 15. Display the number of duplicate rows in the data. If such lines are present, remove them.**"
   ]
  },
  {
   "cell_type": "code",
   "execution_count": 15,
   "id": "59d4c4b1",
   "metadata": {
    "ExecuteTime": {
     "end_time": "2023-07-21T17:13:30.670181Z",
     "start_time": "2023-07-21T17:13:30.624974Z"
    }
   },
   "outputs": [
    {
     "data": {
      "text/plain": [
       "71"
      ]
     },
     "execution_count": 15,
     "metadata": {},
     "output_type": "execute_result"
    }
   ],
   "source": [
    "data.duplicated().sum()"
   ]
  },
  {
   "cell_type": "code",
   "execution_count": 16,
   "id": "423c4d92",
   "metadata": {
    "ExecuteTime": {
     "end_time": "2023-07-21T17:13:30.715021Z",
     "start_time": "2023-07-21T17:13:30.675917Z"
    }
   },
   "outputs": [],
   "source": [
    "data = data.drop_duplicates()"
   ]
  },
  {
   "cell_type": "markdown",
   "id": "94013ae8",
   "metadata": {},
   "source": [
    "### Data categorization"
   ]
  },
  {
   "cell_type": "markdown",
   "id": "05e34e69",
   "metadata": {},
   "source": [
    "**Task 16. Based on the ranges below, create a `total_income_category` column with categories in the `data` dataframe:**\n",
    "\n",
    "- 0–30000 - `'E'`;\n",
    "- 30001–50000 - `'D'`;\n",
    "- 50001–200000 - `'C'`;\n",
    "- 200001–1000000 - `'B'`;\n",
    "- 1000001 and above - `'A'`.\n",
    "\n",
    "\n",
    "**For example, a borrower with an income of 25,000 should be assigned an `'E'` category, and a customer with an income of 235,000 should be assigned a `'B'` category. Use your own function named `categorize_income()` and method `apply()`.**"
   ]
  },
  {
   "cell_type": "code",
   "execution_count": 17,
   "id": "4a5b7e14",
   "metadata": {
    "ExecuteTime": {
     "end_time": "2023-07-21T17:13:30.729891Z",
     "start_time": "2023-07-21T17:13:30.718662Z"
    }
   },
   "outputs": [],
   "source": [
    "def categorize_income(income):\n",
    "    try:\n",
    "        if 0 <= income <= 30000:\n",
    "            return 'E'\n",
    "        elif 30001 <= income <= 50000:\n",
    "            return 'D'\n",
    "        elif 50001 <= income <= 200000:\n",
    "            return 'C'\n",
    "        elif 200001 <= income <= 1000000:\n",
    "            return 'B'\n",
    "        elif income >= 1000001:\n",
    "            return 'A'\n",
    "    except:\n",
    "        pass"
   ]
  },
  {
   "cell_type": "code",
   "execution_count": 18,
   "id": "f91e61ce",
   "metadata": {
    "ExecuteTime": {
     "end_time": "2023-07-21T17:13:30.757666Z",
     "start_time": "2023-07-21T17:13:30.734395Z"
    }
   },
   "outputs": [],
   "source": [
    "data['total_income_category'] = data['total_income'].apply(categorize_income)"
   ]
  },
  {
   "cell_type": "markdown",
   "id": "1e6b8c57",
   "metadata": {},
   "source": [
    "**Task 17. Display a list of unique loan purposes from the `purpose` column.**"
   ]
  },
  {
   "cell_type": "code",
   "execution_count": 19,
   "id": "ebf3995f",
   "metadata": {
    "ExecuteTime": {
     "end_time": "2023-07-21T17:13:30.779051Z",
     "start_time": "2023-07-21T17:13:30.762598Z"
    }
   },
   "outputs": [
    {
     "data": {
      "text/plain": [
       "array(['покупка жилья', 'приобретение автомобиля',\n",
       "       'дополнительное образование', 'сыграть свадьбу',\n",
       "       'операции с жильем', 'образование', 'на проведение свадьбы',\n",
       "       'покупка жилья для семьи', 'покупка недвижимости',\n",
       "       'покупка коммерческой недвижимости', 'покупка жилой недвижимости',\n",
       "       'строительство собственной недвижимости', 'недвижимость',\n",
       "       'строительство недвижимости', 'на покупку подержанного автомобиля',\n",
       "       'на покупку своего автомобиля',\n",
       "       'операции с коммерческой недвижимостью',\n",
       "       'строительство жилой недвижимости', 'жилье',\n",
       "       'операции со своей недвижимостью', 'автомобили',\n",
       "       'заняться образованием', 'сделка с подержанным автомобилем',\n",
       "       'получение образования', 'автомобиль', 'свадьба',\n",
       "       'получение дополнительного образования', 'покупка своего жилья',\n",
       "       'операции с недвижимостью', 'получение высшего образования',\n",
       "       'свой автомобиль', 'сделка с автомобилем',\n",
       "       'профильное образование', 'высшее образование',\n",
       "       'покупка жилья для сдачи', 'на покупку автомобиля', 'ремонт жилью',\n",
       "       'заняться высшим образованием'], dtype=object)"
      ]
     },
     "execution_count": 19,
     "metadata": {},
     "output_type": "execute_result"
    }
   ],
   "source": [
    "data['purpose'].unique()"
   ]
  },
  {
   "cell_type": "markdown",
   "id": "28939f41",
   "metadata": {},
   "source": [
    "**Task 18. Create a function that, based on the data from the `purpose` column, will form a new `purpose_category` column, which will include the following categories:**\n",
    "\n",
    "- `'car operations'`,\n",
    "- `'real estate transactions'`,\n",
    "- `'conducting a wedding'`,\n",
    "- `'getting an education'`.\n",
    "\n",
    "**For example, if the `purpose` column contains the substring `'car purchase'`, then the `purpose_category` column should contain the string `'car operations'`.**\n",
    "\n",
    "**Use your own function named `categorize_purpose()` and method `apply()`. Examine the data in the `purpose` column and determine which substrings will help you correctly identify the category.**"
   ]
  },
  {
   "cell_type": "code",
   "execution_count": 20,
   "id": "ab64c988",
   "metadata": {
    "ExecuteTime": {
     "end_time": "2023-07-21T17:13:30.796256Z",
     "start_time": "2023-07-21T17:13:30.785006Z"
    }
   },
   "outputs": [],
   "source": [
    "def categorize_purpose(row):\n",
    "    try:\n",
    "        if 'автом' in row:\n",
    "            return 'car operations'\n",
    "        elif 'жил' in row or 'недвиж' in row:\n",
    "            return 'real estate transactions'\n",
    "        elif 'свад' in row:\n",
    "            return 'conducting a wedding'\n",
    "        elif 'образов' in row:\n",
    "            return 'getting an education'\n",
    "    except:\n",
    "        return 'нет категории'"
   ]
  },
  {
   "cell_type": "code",
   "execution_count": 21,
   "id": "c06f6cbf",
   "metadata": {
    "ExecuteTime": {
     "end_time": "2023-07-21T17:13:30.827597Z",
     "start_time": "2023-07-21T17:13:30.800962Z"
    }
   },
   "outputs": [],
   "source": [
    "data['purpose_category'] = data['purpose'].apply(categorize_purpose)"
   ]
  },
  {
   "cell_type": "markdown",
   "id": "e319e8bc",
   "metadata": {},
   "source": [
    "### Explore data and answer questions"
   ]
  },
  {
   "cell_type": "markdown",
   "id": "08dbeb48",
   "metadata": {},
   "source": [
    "#### Is there a relationship between the number of children and loan repayment on time?"
   ]
  },
  {
   "cell_type": "code",
   "execution_count": 22,
   "id": "1608e01c",
   "metadata": {
    "ExecuteTime": {
     "end_time": "2023-07-21T17:13:30.885858Z",
     "start_time": "2023-07-21T17:13:30.831658Z"
    }
   },
   "outputs": [
    {
     "data": {
      "text/html": [
       "<div>\n",
       "<style scoped>\n",
       "    .dataframe tbody tr th:only-of-type {\n",
       "        vertical-align: middle;\n",
       "    }\n",
       "\n",
       "    .dataframe tbody tr th {\n",
       "        vertical-align: top;\n",
       "    }\n",
       "\n",
       "    .dataframe thead th {\n",
       "        text-align: right;\n",
       "    }\n",
       "</style>\n",
       "<table border=\"1\" class=\"dataframe\">\n",
       "  <thead>\n",
       "    <tr style=\"text-align: right;\">\n",
       "      <th></th>\n",
       "      <th>Total borrowers</th>\n",
       "      <th>Total debtors</th>\n",
       "      <th>Share of debtors</th>\n",
       "    </tr>\n",
       "    <tr>\n",
       "      <th>children</th>\n",
       "      <th></th>\n",
       "      <th></th>\n",
       "      <th></th>\n",
       "    </tr>\n",
       "  </thead>\n",
       "  <tbody>\n",
       "    <tr>\n",
       "      <th>0</th>\n",
       "      <td>14091</td>\n",
       "      <td>1063</td>\n",
       "      <td>0.075438</td>\n",
       "    </tr>\n",
       "    <tr>\n",
       "      <th>1</th>\n",
       "      <td>4808</td>\n",
       "      <td>444</td>\n",
       "      <td>0.092346</td>\n",
       "    </tr>\n",
       "    <tr>\n",
       "      <th>2</th>\n",
       "      <td>2052</td>\n",
       "      <td>194</td>\n",
       "      <td>0.094542</td>\n",
       "    </tr>\n",
       "    <tr>\n",
       "      <th>3</th>\n",
       "      <td>330</td>\n",
       "      <td>27</td>\n",
       "      <td>0.081818</td>\n",
       "    </tr>\n",
       "    <tr>\n",
       "      <th>4</th>\n",
       "      <td>41</td>\n",
       "      <td>4</td>\n",
       "      <td>0.097561</td>\n",
       "    </tr>\n",
       "    <tr>\n",
       "      <th>5</th>\n",
       "      <td>9</td>\n",
       "      <td>0</td>\n",
       "      <td>0.000000</td>\n",
       "    </tr>\n",
       "  </tbody>\n",
       "</table>\n",
       "</div>"
      ],
      "text/plain": [
       "          Total borrowers  Total debtors  Share of debtors\n",
       "children                                                  \n",
       "0                   14091           1063          0.075438\n",
       "1                    4808            444          0.092346\n",
       "2                    2052            194          0.094542\n",
       "3                     330             27          0.081818\n",
       "4                      41              4          0.097561\n",
       "5                       9              0          0.000000"
      ]
     },
     "execution_count": 22,
     "metadata": {},
     "output_type": "execute_result"
    }
   ],
   "source": [
    "def data_pivot(category):\n",
    "    return data.pivot_table(['debt'], index=[category], aggfunc = ['count', 'sum', 'mean'])\\\n",
    ".rename(columns={'count':'Total borrowers', 'sum':'Total debtors', 'mean':'Share of debtors'}).droplevel(1,axis=1)\n",
    "data_pivot(data['children'])"
   ]
  },
  {
   "cell_type": "markdown",
   "id": "c6a216d4",
   "metadata": {},
   "source": [
    "**Conclusion:** People without children are less likely to have accounts receivable, only 7.54%. People with three children are slightly more likely, 8.18%. It is difficult to say about people with four and five children, since out of the entire sample only 9 people have 5 children, 41 people have 4 children, and in our sample these are very small values ​​for a full assessment.\n",
    "Therefore, the most reliable payers are people without children."
   ]
  },
  {
   "cell_type": "markdown",
   "id": "5182f9b1",
   "metadata": {},
   "source": [
    "#### Is there a relationship between marital status and loan repayment on time?"
   ]
  },
  {
   "cell_type": "code",
   "execution_count": 23,
   "id": "b2258aaf",
   "metadata": {
    "ExecuteTime": {
     "end_time": "2023-07-21T17:13:30.946346Z",
     "start_time": "2023-07-21T17:13:30.892327Z"
    }
   },
   "outputs": [
    {
     "data": {
      "text/html": [
       "<div>\n",
       "<style scoped>\n",
       "    .dataframe tbody tr th:only-of-type {\n",
       "        vertical-align: middle;\n",
       "    }\n",
       "\n",
       "    .dataframe tbody tr th {\n",
       "        vertical-align: top;\n",
       "    }\n",
       "\n",
       "    .dataframe thead th {\n",
       "        text-align: right;\n",
       "    }\n",
       "</style>\n",
       "<table border=\"1\" class=\"dataframe\">\n",
       "  <thead>\n",
       "    <tr style=\"text-align: right;\">\n",
       "      <th></th>\n",
       "      <th>Total borrowers</th>\n",
       "      <th>Total debtors</th>\n",
       "      <th>Share of debtors</th>\n",
       "    </tr>\n",
       "    <tr>\n",
       "      <th>family_status</th>\n",
       "      <th></th>\n",
       "      <th></th>\n",
       "      <th></th>\n",
       "    </tr>\n",
       "  </thead>\n",
       "  <tbody>\n",
       "    <tr>\n",
       "      <th>Не женат / не замужем</th>\n",
       "      <td>2796</td>\n",
       "      <td>273</td>\n",
       "      <td>0.097639</td>\n",
       "    </tr>\n",
       "    <tr>\n",
       "      <th>в разводе</th>\n",
       "      <td>1189</td>\n",
       "      <td>84</td>\n",
       "      <td>0.070648</td>\n",
       "    </tr>\n",
       "    <tr>\n",
       "      <th>вдовец / вдова</th>\n",
       "      <td>951</td>\n",
       "      <td>63</td>\n",
       "      <td>0.066246</td>\n",
       "    </tr>\n",
       "    <tr>\n",
       "      <th>гражданский брак</th>\n",
       "      <td>4134</td>\n",
       "      <td>385</td>\n",
       "      <td>0.093130</td>\n",
       "    </tr>\n",
       "    <tr>\n",
       "      <th>женат / замужем</th>\n",
       "      <td>12261</td>\n",
       "      <td>927</td>\n",
       "      <td>0.075606</td>\n",
       "    </tr>\n",
       "  </tbody>\n",
       "</table>\n",
       "</div>"
      ],
      "text/plain": [
       "                       Total borrowers  Total debtors  Share of debtors\n",
       "family_status                                                          \n",
       "Не женат / не замужем             2796            273          0.097639\n",
       "в разводе                         1189             84          0.070648\n",
       "вдовец / вдова                     951             63          0.066246\n",
       "гражданский брак                  4134            385          0.093130\n",
       "женат / замужем                  12261            927          0.075606"
      ]
     },
     "execution_count": 23,
     "metadata": {},
     "output_type": "execute_result"
    }
   ],
   "source": [
    "data_pivot(data['family_status'])"
   ]
  },
  {
   "cell_type": "markdown",
   "id": "db25b0f6",
   "metadata": {},
   "source": [
    "**Conclusion:** The most reliable borrowers are widows / widowers and people who are divorced, the most unreliable are single / unmarried"
   ]
  },
  {
   "cell_type": "markdown",
   "id": "ec9577dd",
   "metadata": {},
   "source": [
    "#### Is there a relationship between income level and loan repayment on time?"
   ]
  },
  {
   "cell_type": "code",
   "execution_count": 24,
   "id": "6128b0e5",
   "metadata": {
    "ExecuteTime": {
     "end_time": "2023-07-21T17:13:31.002939Z",
     "start_time": "2023-07-21T17:13:30.952135Z"
    }
   },
   "outputs": [
    {
     "data": {
      "text/html": [
       "<div>\n",
       "<style scoped>\n",
       "    .dataframe tbody tr th:only-of-type {\n",
       "        vertical-align: middle;\n",
       "    }\n",
       "\n",
       "    .dataframe tbody tr th {\n",
       "        vertical-align: top;\n",
       "    }\n",
       "\n",
       "    .dataframe thead th {\n",
       "        text-align: right;\n",
       "    }\n",
       "</style>\n",
       "<table border=\"1\" class=\"dataframe\">\n",
       "  <thead>\n",
       "    <tr style=\"text-align: right;\">\n",
       "      <th></th>\n",
       "      <th>Total borrowers</th>\n",
       "      <th>Total debtors</th>\n",
       "      <th>Share of debtors</th>\n",
       "    </tr>\n",
       "    <tr>\n",
       "      <th>total_income_category</th>\n",
       "      <th></th>\n",
       "      <th></th>\n",
       "      <th></th>\n",
       "    </tr>\n",
       "  </thead>\n",
       "  <tbody>\n",
       "    <tr>\n",
       "      <th>A</th>\n",
       "      <td>25</td>\n",
       "      <td>2</td>\n",
       "      <td>0.080000</td>\n",
       "    </tr>\n",
       "    <tr>\n",
       "      <th>B</th>\n",
       "      <td>5014</td>\n",
       "      <td>354</td>\n",
       "      <td>0.070602</td>\n",
       "    </tr>\n",
       "    <tr>\n",
       "      <th>C</th>\n",
       "      <td>15921</td>\n",
       "      <td>1353</td>\n",
       "      <td>0.084982</td>\n",
       "    </tr>\n",
       "    <tr>\n",
       "      <th>D</th>\n",
       "      <td>349</td>\n",
       "      <td>21</td>\n",
       "      <td>0.060172</td>\n",
       "    </tr>\n",
       "    <tr>\n",
       "      <th>E</th>\n",
       "      <td>22</td>\n",
       "      <td>2</td>\n",
       "      <td>0.090909</td>\n",
       "    </tr>\n",
       "  </tbody>\n",
       "</table>\n",
       "</div>"
      ],
      "text/plain": [
       "                       Total borrowers  Total debtors  Share of debtors\n",
       "total_income_category                                                  \n",
       "A                                   25              2          0.080000\n",
       "B                                 5014            354          0.070602\n",
       "C                                15921           1353          0.084982\n",
       "D                                  349             21          0.060172\n",
       "E                                   22              2          0.090909"
      ]
     },
     "execution_count": 24,
     "metadata": {},
     "output_type": "execute_result"
    }
   ],
   "source": [
    "data_pivot(data['total_income_category'])"
   ]
  },
  {
   "cell_type": "markdown",
   "id": "944befa0",
   "metadata": {},
   "source": [
    "**Conclusion:** The most reliable borrowers are people from the B category, i.e. with an income of 200,001 to 1,000,000, a little less reliable - from the C category, i.e. with an income of 50,001 to 200,000, it is difficult to judge for other categories due to lack of data"
   ]
  },
  {
   "cell_type": "markdown",
   "id": "f1aeb5ef",
   "metadata": {},
   "source": [
    "#### How do different purposes of a loan affect its repayment on time?"
   ]
  },
  {
   "cell_type": "code",
   "execution_count": 25,
   "id": "5a55517c",
   "metadata": {
    "ExecuteTime": {
     "end_time": "2023-07-21T17:13:31.060664Z",
     "start_time": "2023-07-21T17:13:31.008803Z"
    }
   },
   "outputs": [
    {
     "data": {
      "text/html": [
       "<div>\n",
       "<style scoped>\n",
       "    .dataframe tbody tr th:only-of-type {\n",
       "        vertical-align: middle;\n",
       "    }\n",
       "\n",
       "    .dataframe tbody tr th {\n",
       "        vertical-align: top;\n",
       "    }\n",
       "\n",
       "    .dataframe thead th {\n",
       "        text-align: right;\n",
       "    }\n",
       "</style>\n",
       "<table border=\"1\" class=\"dataframe\">\n",
       "  <thead>\n",
       "    <tr style=\"text-align: right;\">\n",
       "      <th></th>\n",
       "      <th>Total borrowers</th>\n",
       "      <th>Total debtors</th>\n",
       "      <th>Share of debtors</th>\n",
       "    </tr>\n",
       "    <tr>\n",
       "      <th>purpose_category</th>\n",
       "      <th></th>\n",
       "      <th></th>\n",
       "      <th></th>\n",
       "    </tr>\n",
       "  </thead>\n",
       "  <tbody>\n",
       "    <tr>\n",
       "      <th>car operations</th>\n",
       "      <td>4279</td>\n",
       "      <td>400</td>\n",
       "      <td>0.093480</td>\n",
       "    </tr>\n",
       "    <tr>\n",
       "      <th>conducting a wedding</th>\n",
       "      <td>2313</td>\n",
       "      <td>183</td>\n",
       "      <td>0.079118</td>\n",
       "    </tr>\n",
       "    <tr>\n",
       "      <th>getting an education</th>\n",
       "      <td>3988</td>\n",
       "      <td>369</td>\n",
       "      <td>0.092528</td>\n",
       "    </tr>\n",
       "    <tr>\n",
       "      <th>real estate transactions</th>\n",
       "      <td>10751</td>\n",
       "      <td>780</td>\n",
       "      <td>0.072551</td>\n",
       "    </tr>\n",
       "  </tbody>\n",
       "</table>\n",
       "</div>"
      ],
      "text/plain": [
       "                          Total borrowers  Total debtors  Share of debtors\n",
       "purpose_category                                                          \n",
       "car operations                       4279            400          0.093480\n",
       "conducting a wedding                 2313            183          0.079118\n",
       "getting an education                 3988            369          0.092528\n",
       "real estate transactions            10751            780          0.072551"
      ]
     },
     "execution_count": 25,
     "metadata": {},
     "output_type": "execute_result"
    }
   ],
   "source": [
    "data_pivot(data['purpose_category'])"
   ]
  },
  {
   "cell_type": "markdown",
   "id": "33c93ef3",
   "metadata": {},
   "source": [
    "**Conclusion:** Least of all debts on loans for the purpose of real estate transactions, most of all - for loans for the purpose of car transactions"
   ]
  },
  {
   "cell_type": "markdown",
   "id": "da534746",
   "metadata": {},
   "source": [
    "#### Give possible reasons for gaps in the original data."
   ]
  },
  {
   "cell_type": "markdown",
   "id": "60393d46",
   "metadata": {},
   "source": [
    "*Answer:* A human factor is possible, for example, the client did not provide supporting documents, perhaps they were not required (for example, some data may not be required if the client has a good credit history in this bank or the loan amount is small), or there could be an error of the employee who filled in the data. A technical factor is also possible - some kind of failure occurred, an error occurred during the transfer, merging, unloading or loading of data."
   ]
  },
  {
   "cell_type": "markdown",
   "id": "acc8c3ad",
   "metadata": {},
   "source": [
    "#### Explain why filling in the gaps with the median is the best solution for scale variables."
   ]
  },
  {
   "cell_type": "markdown",
   "id": "1604989e",
   "metadata": {},
   "source": [
    "*Answer:* Because the median value allows you to smooth out the influence of values ​​that stand out from the total sample."
   ]
  },
  {
   "cell_type": "markdown",
   "id": "6fcab9ff",
   "metadata": {},
   "source": [
    "### General conclusion"
   ]
  },
  {
   "cell_type": "markdown",
   "id": "23c5afa9",
   "metadata": {},
   "source": [
    "Depending on the probability of the client repaying the loan on time, you can adjust the interest rate of the loan product, as well as issue a refusal to a potential borrower in case of unreliability.\n",
    "The analysis of data with statistics of the solvency of customers was carried out, gaps in the data were removed, anomalous values ​​were processed, duplicates were processed. Also, the categorization of the data was made and the relationship between the number of children, marital status, the purpose of obtaining a loan, income level and repayment of the loan on time was investigated.\n",
    "We found that the probability of repaying a loan on time changes as follows:\n",
    "- the probability of debt is low (7.54%) if the borrower has no children, and higher if the borrower has 1 or 2 children (9.23% and 9.45% respectively)\n",
    "- the most reliable borrowers by marital status are widows / widowers (probability of debt 6.62%) and divorced people (probability of debt 7.06%), the most unreliable - single / unmarried (probability of debt 9.76%)\n",
    "- the most reliable borrowers in terms of income - people with income from 200,001 to 1,000,000 (probability of debt 7.06%), slightly less reliable - with income from 50,001 to 200,000 (probability of debt 8.49%), it is difficult to judge for other categories due to lack of data\n",
    "- the smallest number of debts on loans for the purpose of real estate transactions (7.25%), the most - for loans for the purpose of car transactions (9.34%)\n",
    "\n",
    "Thus, the most reliable borrower is a person without children, widower / widow or divorced, with an income of 200,001 to 1,000,000, who takes out a loan for a real estate transaction."
   ]
  }
 ],
 "metadata": {
  "kernelspec": {
   "display_name": "Python 3 (ipykernel)",
   "language": "python",
   "name": "python3"
  },
  "language_info": {
   "codemirror_mode": {
    "name": "ipython",
    "version": 3
   },
   "file_extension": ".py",
   "mimetype": "text/x-python",
   "name": "python",
   "nbconvert_exporter": "python",
   "pygments_lexer": "ipython3",
   "version": "3.9.13"
  },
  "toc": {
   "base_numbering": 1,
   "nav_menu": {},
   "number_sections": true,
   "sideBar": true,
   "skip_h1_title": true,
   "title_cell": "Table of Contents",
   "title_sidebar": "Contents",
   "toc_cell": true,
   "toc_position": {},
   "toc_section_display": true,
   "toc_window_display": false
  }
 },
 "nbformat": 4,
 "nbformat_minor": 5
}
