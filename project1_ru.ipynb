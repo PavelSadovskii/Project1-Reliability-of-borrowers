{
 "cells": [
  {
   "cell_type": "markdown",
   "id": "0a08c83c",
   "metadata": {
    "deletable": false,
    "editable": false,
    "id": "c81daeeb"
   },
   "source": [
    "# Исследование надежности заемщиков\n"
   ]
  },
  {
   "cell_type": "markdown",
   "id": "3e0739df",
   "metadata": {
    "deletable": false,
    "editable": false,
    "id": "827c20bf"
   },
   "source": [
    "Во второй части проекта вы выполните шаги 3 и 4. Их вручную проверит ревьюер.\n",
    "Чтобы вам не пришлось писать код заново для шагов 1 и 2, мы добавили авторские решения в ячейки с кодом. \n",
    "\n"
   ]
  },
  {
   "cell_type": "markdown",
   "id": "da582428",
   "metadata": {
    "deletable": false,
    "editable": false,
    "id": "744d7639"
   },
   "source": [
    "## Откройте таблицу и изучите общую информацию о данных"
   ]
  },
  {
   "cell_type": "markdown",
   "id": "00524d88",
   "metadata": {
    "deletable": false,
    "editable": false,
    "id": "e7a14c31"
   },
   "source": [
    "**Задание 1. Импортируйте библиотеку pandas. Считайте данные из csv-файла в датафрейм и сохраните в переменную `data`. Путь к файлу:**\n",
    "\n",
    "`/datasets/data.csv`"
   ]
  },
  {
   "cell_type": "code",
   "execution_count": 1,
   "id": "fd5131e7",
   "metadata": {
    "ExecuteTime": {
     "end_time": "2023-07-21T16:14:03.148117Z",
     "start_time": "2023-07-21T16:14:00.780255Z"
    },
    "deletable": false,
    "id": "7bcf75c9"
   },
   "outputs": [],
   "source": [
    "import pandas as pd\n",
    "try:\n",
    "    data = pd.read_csv('/datasets/data.csv')\n",
    "except:\n",
    "    data = pd.read_csv('https://code.s3.yandex.net/datasets/data.csv')"
   ]
  },
  {
   "cell_type": "markdown",
   "id": "03ec01f6",
   "metadata": {
    "deletable": false,
    "editable": false,
    "id": "b8038fe3"
   },
   "source": [
    "**Задание 2. Выведите первые 20 строчек датафрейма `data` на экран.**"
   ]
  },
  {
   "cell_type": "code",
   "execution_count": 26,
   "id": "6c7f658d",
   "metadata": {
    "ExecuteTime": {
     "end_time": "2023-07-21T16:15:59.447726Z",
     "start_time": "2023-07-21T16:15:59.360184Z"
    },
    "deletable": false,
    "id": "2a7cab99",
    "outputId": "1a8f3ef2-d323-4ec2-ddf7-89670b5944c4"
   },
   "outputs": [
    {
     "data": {
      "text/html": [
       "<div>\n",
       "<style scoped>\n",
       "    .dataframe tbody tr th:only-of-type {\n",
       "        vertical-align: middle;\n",
       "    }\n",
       "\n",
       "    .dataframe tbody tr th {\n",
       "        vertical-align: top;\n",
       "    }\n",
       "\n",
       "    .dataframe thead th {\n",
       "        text-align: right;\n",
       "    }\n",
       "</style>\n",
       "<table border=\"1\" class=\"dataframe\">\n",
       "  <thead>\n",
       "    <tr style=\"text-align: right;\">\n",
       "      <th></th>\n",
       "      <th>children</th>\n",
       "      <th>days_employed</th>\n",
       "      <th>dob_years</th>\n",
       "      <th>education</th>\n",
       "      <th>education_id</th>\n",
       "      <th>family_status</th>\n",
       "      <th>family_status_id</th>\n",
       "      <th>gender</th>\n",
       "      <th>income_type</th>\n",
       "      <th>debt</th>\n",
       "      <th>total_income</th>\n",
       "      <th>purpose</th>\n",
       "      <th>total_income_category</th>\n",
       "      <th>purpose_category</th>\n",
       "    </tr>\n",
       "  </thead>\n",
       "  <tbody>\n",
       "    <tr>\n",
       "      <th>0</th>\n",
       "      <td>1</td>\n",
       "      <td>8437.673028</td>\n",
       "      <td>42</td>\n",
       "      <td>высшее</td>\n",
       "      <td>0</td>\n",
       "      <td>женат / замужем</td>\n",
       "      <td>0</td>\n",
       "      <td>F</td>\n",
       "      <td>сотрудник</td>\n",
       "      <td>0</td>\n",
       "      <td>253875</td>\n",
       "      <td>покупка жилья</td>\n",
       "      <td>B</td>\n",
       "      <td>операции с недвижимостью</td>\n",
       "    </tr>\n",
       "    <tr>\n",
       "      <th>1</th>\n",
       "      <td>1</td>\n",
       "      <td>4024.803754</td>\n",
       "      <td>36</td>\n",
       "      <td>среднее</td>\n",
       "      <td>1</td>\n",
       "      <td>женат / замужем</td>\n",
       "      <td>0</td>\n",
       "      <td>F</td>\n",
       "      <td>сотрудник</td>\n",
       "      <td>0</td>\n",
       "      <td>112080</td>\n",
       "      <td>приобретение автомобиля</td>\n",
       "      <td>C</td>\n",
       "      <td>операции с автомобилем</td>\n",
       "    </tr>\n",
       "    <tr>\n",
       "      <th>2</th>\n",
       "      <td>0</td>\n",
       "      <td>5623.422610</td>\n",
       "      <td>33</td>\n",
       "      <td>среднее</td>\n",
       "      <td>1</td>\n",
       "      <td>женат / замужем</td>\n",
       "      <td>0</td>\n",
       "      <td>M</td>\n",
       "      <td>сотрудник</td>\n",
       "      <td>0</td>\n",
       "      <td>145885</td>\n",
       "      <td>покупка жилья</td>\n",
       "      <td>C</td>\n",
       "      <td>операции с недвижимостью</td>\n",
       "    </tr>\n",
       "    <tr>\n",
       "      <th>3</th>\n",
       "      <td>3</td>\n",
       "      <td>4124.747207</td>\n",
       "      <td>32</td>\n",
       "      <td>среднее</td>\n",
       "      <td>1</td>\n",
       "      <td>женат / замужем</td>\n",
       "      <td>0</td>\n",
       "      <td>M</td>\n",
       "      <td>сотрудник</td>\n",
       "      <td>0</td>\n",
       "      <td>267628</td>\n",
       "      <td>дополнительное образование</td>\n",
       "      <td>B</td>\n",
       "      <td>получение образования</td>\n",
       "    </tr>\n",
       "    <tr>\n",
       "      <th>4</th>\n",
       "      <td>0</td>\n",
       "      <td>340266.072047</td>\n",
       "      <td>53</td>\n",
       "      <td>среднее</td>\n",
       "      <td>1</td>\n",
       "      <td>гражданский брак</td>\n",
       "      <td>1</td>\n",
       "      <td>F</td>\n",
       "      <td>пенсионер</td>\n",
       "      <td>0</td>\n",
       "      <td>158616</td>\n",
       "      <td>сыграть свадьбу</td>\n",
       "      <td>C</td>\n",
       "      <td>проведение свадьбы</td>\n",
       "    </tr>\n",
       "    <tr>\n",
       "      <th>5</th>\n",
       "      <td>0</td>\n",
       "      <td>926.185831</td>\n",
       "      <td>27</td>\n",
       "      <td>высшее</td>\n",
       "      <td>0</td>\n",
       "      <td>гражданский брак</td>\n",
       "      <td>1</td>\n",
       "      <td>M</td>\n",
       "      <td>компаньон</td>\n",
       "      <td>0</td>\n",
       "      <td>255763</td>\n",
       "      <td>покупка жилья</td>\n",
       "      <td>B</td>\n",
       "      <td>операции с недвижимостью</td>\n",
       "    </tr>\n",
       "    <tr>\n",
       "      <th>6</th>\n",
       "      <td>0</td>\n",
       "      <td>2879.202052</td>\n",
       "      <td>43</td>\n",
       "      <td>высшее</td>\n",
       "      <td>0</td>\n",
       "      <td>женат / замужем</td>\n",
       "      <td>0</td>\n",
       "      <td>F</td>\n",
       "      <td>компаньон</td>\n",
       "      <td>0</td>\n",
       "      <td>240525</td>\n",
       "      <td>операции с жильем</td>\n",
       "      <td>B</td>\n",
       "      <td>операции с недвижимостью</td>\n",
       "    </tr>\n",
       "    <tr>\n",
       "      <th>7</th>\n",
       "      <td>0</td>\n",
       "      <td>152.779569</td>\n",
       "      <td>50</td>\n",
       "      <td>среднее</td>\n",
       "      <td>1</td>\n",
       "      <td>женат / замужем</td>\n",
       "      <td>0</td>\n",
       "      <td>M</td>\n",
       "      <td>сотрудник</td>\n",
       "      <td>0</td>\n",
       "      <td>135823</td>\n",
       "      <td>образование</td>\n",
       "      <td>C</td>\n",
       "      <td>получение образования</td>\n",
       "    </tr>\n",
       "    <tr>\n",
       "      <th>8</th>\n",
       "      <td>2</td>\n",
       "      <td>6929.865299</td>\n",
       "      <td>35</td>\n",
       "      <td>высшее</td>\n",
       "      <td>0</td>\n",
       "      <td>гражданский брак</td>\n",
       "      <td>1</td>\n",
       "      <td>F</td>\n",
       "      <td>сотрудник</td>\n",
       "      <td>0</td>\n",
       "      <td>95856</td>\n",
       "      <td>на проведение свадьбы</td>\n",
       "      <td>C</td>\n",
       "      <td>проведение свадьбы</td>\n",
       "    </tr>\n",
       "    <tr>\n",
       "      <th>9</th>\n",
       "      <td>0</td>\n",
       "      <td>2188.756445</td>\n",
       "      <td>41</td>\n",
       "      <td>среднее</td>\n",
       "      <td>1</td>\n",
       "      <td>женат / замужем</td>\n",
       "      <td>0</td>\n",
       "      <td>M</td>\n",
       "      <td>сотрудник</td>\n",
       "      <td>0</td>\n",
       "      <td>144425</td>\n",
       "      <td>покупка жилья для семьи</td>\n",
       "      <td>C</td>\n",
       "      <td>операции с недвижимостью</td>\n",
       "    </tr>\n",
       "  </tbody>\n",
       "</table>\n",
       "</div>"
      ],
      "text/plain": [
       "   children  days_employed  dob_years education  education_id  \\\n",
       "0         1    8437.673028         42    высшее             0   \n",
       "1         1    4024.803754         36   среднее             1   \n",
       "2         0    5623.422610         33   среднее             1   \n",
       "3         3    4124.747207         32   среднее             1   \n",
       "4         0  340266.072047         53   среднее             1   \n",
       "5         0     926.185831         27    высшее             0   \n",
       "6         0    2879.202052         43    высшее             0   \n",
       "7         0     152.779569         50   среднее             1   \n",
       "8         2    6929.865299         35    высшее             0   \n",
       "9         0    2188.756445         41   среднее             1   \n",
       "\n",
       "      family_status  family_status_id gender income_type  debt  total_income  \\\n",
       "0   женат / замужем                 0      F   сотрудник     0        253875   \n",
       "1   женат / замужем                 0      F   сотрудник     0        112080   \n",
       "2   женат / замужем                 0      M   сотрудник     0        145885   \n",
       "3   женат / замужем                 0      M   сотрудник     0        267628   \n",
       "4  гражданский брак                 1      F   пенсионер     0        158616   \n",
       "5  гражданский брак                 1      M   компаньон     0        255763   \n",
       "6   женат / замужем                 0      F   компаньон     0        240525   \n",
       "7   женат / замужем                 0      M   сотрудник     0        135823   \n",
       "8  гражданский брак                 1      F   сотрудник     0         95856   \n",
       "9   женат / замужем                 0      M   сотрудник     0        144425   \n",
       "\n",
       "                      purpose total_income_category          purpose_category  \n",
       "0               покупка жилья                     B  операции с недвижимостью  \n",
       "1     приобретение автомобиля                     C    операции с автомобилем  \n",
       "2               покупка жилья                     C  операции с недвижимостью  \n",
       "3  дополнительное образование                     B     получение образования  \n",
       "4             сыграть свадьбу                     C        проведение свадьбы  \n",
       "5               покупка жилья                     B  операции с недвижимостью  \n",
       "6           операции с жильем                     B  операции с недвижимостью  \n",
       "7                 образование                     C     получение образования  \n",
       "8       на проведение свадьбы                     C        проведение свадьбы  \n",
       "9     покупка жилья для семьи                     C  операции с недвижимостью  "
      ]
     },
     "execution_count": 26,
     "metadata": {},
     "output_type": "execute_result"
    }
   ],
   "source": [
    "data.head(10)"
   ]
  },
  {
   "cell_type": "markdown",
   "id": "67f09015",
   "metadata": {
    "deletable": false,
    "editable": false,
    "id": "1c12e233"
   },
   "source": [
    "**Задание 3. Выведите основную информацию о датафрейме с помощью метода `info()`.**"
   ]
  },
  {
   "cell_type": "code",
   "execution_count": 3,
   "id": "44bff308",
   "metadata": {
    "ExecuteTime": {
     "end_time": "2023-07-21T16:14:03.274324Z",
     "start_time": "2023-07-21T16:14:03.213316Z"
    },
    "deletable": false,
    "id": "2b757bca",
    "outputId": "15376089-8dad-46c9-b520-c05248d43158"
   },
   "outputs": [
    {
     "name": "stdout",
     "output_type": "stream",
     "text": [
      "<class 'pandas.core.frame.DataFrame'>\n",
      "RangeIndex: 21525 entries, 0 to 21524\n",
      "Data columns (total 12 columns):\n",
      " #   Column            Non-Null Count  Dtype  \n",
      "---  ------            --------------  -----  \n",
      " 0   children          21525 non-null  int64  \n",
      " 1   days_employed     19351 non-null  float64\n",
      " 2   dob_years         21525 non-null  int64  \n",
      " 3   education         21525 non-null  object \n",
      " 4   education_id      21525 non-null  int64  \n",
      " 5   family_status     21525 non-null  object \n",
      " 6   family_status_id  21525 non-null  int64  \n",
      " 7   gender            21525 non-null  object \n",
      " 8   income_type       21525 non-null  object \n",
      " 9   debt              21525 non-null  int64  \n",
      " 10  total_income      19351 non-null  float64\n",
      " 11  purpose           21525 non-null  object \n",
      "dtypes: float64(2), int64(5), object(5)\n",
      "memory usage: 2.0+ MB\n"
     ]
    }
   ],
   "source": [
    "data.info()"
   ]
  },
  {
   "cell_type": "markdown",
   "id": "7e07bbff",
   "metadata": {
    "deletable": false,
    "editable": false,
    "id": "333ec665"
   },
   "source": [
    "## Предобработка данных"
   ]
  },
  {
   "cell_type": "markdown",
   "id": "50707835",
   "metadata": {
    "deletable": false,
    "editable": false,
    "id": "02d92d53"
   },
   "source": [
    "### Удаление пропусков"
   ]
  },
  {
   "cell_type": "markdown",
   "id": "c2d2f54a",
   "metadata": {
    "deletable": false,
    "editable": false,
    "id": "cd84967c"
   },
   "source": [
    "**Задание 4. Выведите количество пропущенных значений для каждого столбца. Используйте комбинацию двух методов.**"
   ]
  },
  {
   "cell_type": "code",
   "execution_count": 4,
   "id": "e595715b",
   "metadata": {
    "ExecuteTime": {
     "end_time": "2023-07-21T16:14:03.319798Z",
     "start_time": "2023-07-21T16:14:03.280794Z"
    },
    "deletable": false,
    "id": "7f9b2309",
    "outputId": "81f4d817-781c-465c-ed15-91ce4446810d"
   },
   "outputs": [
    {
     "data": {
      "text/plain": [
       "children               0\n",
       "days_employed       2174\n",
       "dob_years              0\n",
       "education              0\n",
       "education_id           0\n",
       "family_status          0\n",
       "family_status_id       0\n",
       "gender                 0\n",
       "income_type            0\n",
       "debt                   0\n",
       "total_income        2174\n",
       "purpose                0\n",
       "dtype: int64"
      ]
     },
     "execution_count": 4,
     "metadata": {},
     "output_type": "execute_result"
    }
   ],
   "source": [
    "data.isna().sum()"
   ]
  },
  {
   "cell_type": "markdown",
   "id": "c3972db1",
   "metadata": {
    "deletable": false,
    "editable": false,
    "id": "db86e27b"
   },
   "source": [
    "**Задание 5. В двух столбцах есть пропущенные значения. Один из них — `days_employed`. Пропуски в этом столбце вы обработаете на следующем этапе. Другой столбец с пропущенными значениями — `total_income` — хранит данные о доходах. На сумму дохода сильнее всего влияет тип занятости, поэтому заполнить пропуски в этом столбце нужно медианным значением по каждому типу из столбца `income_type`. Например, у человека с типом занятости `сотрудник` пропуск в столбце `total_income` должен быть заполнен медианным доходом среди всех записей с тем же типом.**"
   ]
  },
  {
   "cell_type": "code",
   "execution_count": 5,
   "id": "05e779e5",
   "metadata": {
    "ExecuteTime": {
     "end_time": "2023-07-21T16:14:03.408617Z",
     "start_time": "2023-07-21T16:14:03.326424Z"
    },
    "deletable": false,
    "id": "42006a93"
   },
   "outputs": [],
   "source": [
    "for t in data['income_type'].unique():\n",
    "    data.loc[(data['income_type'] == t) & (data['total_income'].isna()), 'total_income'] = \\\n",
    "    data.loc[(data['income_type'] == t), 'total_income'].median()"
   ]
  },
  {
   "cell_type": "markdown",
   "id": "7ba8f72d",
   "metadata": {
    "deletable": false,
    "editable": false,
    "id": "89da5ece"
   },
   "source": [
    "### Обработка аномальных значений"
   ]
  },
  {
   "cell_type": "markdown",
   "id": "38b2d528",
   "metadata": {
    "deletable": false,
    "editable": false,
    "id": "57964554"
   },
   "source": [
    "**Задание 6. В данных могут встречаться артефакты (аномалии) — значения, которые не отражают действительность и появились по какой-то ошибке. таким артефактом будет отрицательное количество дней трудового стажа в столбце `days_employed`. Для реальных данных это нормально. Обработайте значения в этом столбце: замените все отрицательные значения положительными с помощью метода `abs()`.**"
   ]
  },
  {
   "cell_type": "code",
   "execution_count": 6,
   "id": "ebfefa9a",
   "metadata": {
    "ExecuteTime": {
     "end_time": "2023-07-21T16:14:03.421452Z",
     "start_time": "2023-07-21T16:14:03.412703Z"
    },
    "deletable": false,
    "id": "f6f055bf"
   },
   "outputs": [],
   "source": [
    "data['days_employed'] = data['days_employed'].abs()"
   ]
  },
  {
   "cell_type": "markdown",
   "id": "3a8de242",
   "metadata": {
    "deletable": false,
    "editable": false,
    "id": "6107dd2f"
   },
   "source": [
    "**Задание 7. Для каждого типа занятости выведите медианное значение трудового стажа `days_employed` в днях.**"
   ]
  },
  {
   "cell_type": "code",
   "execution_count": 7,
   "id": "79b9b4c8",
   "metadata": {
    "ExecuteTime": {
     "end_time": "2023-07-21T16:14:03.464293Z",
     "start_time": "2023-07-21T16:14:03.429961Z"
    },
    "deletable": false,
    "id": "85a5faf6",
    "outputId": "801ef80e-522b-4668-f34e-565af7432bcf"
   },
   "outputs": [
    {
     "data": {
      "text/plain": [
       "income_type\n",
       "безработный        366413.652744\n",
       "в декрете            3296.759962\n",
       "госслужащий          2689.368353\n",
       "компаньон            1547.382223\n",
       "пенсионер          365213.306266\n",
       "предприниматель       520.848083\n",
       "сотрудник            1574.202821\n",
       "студент               578.751554\n",
       "Name: days_employed, dtype: float64"
      ]
     },
     "execution_count": 7,
     "metadata": {},
     "output_type": "execute_result"
    }
   ],
   "source": [
    "data.groupby('income_type')['days_employed'].agg('median')"
   ]
  },
  {
   "cell_type": "markdown",
   "id": "e966d968",
   "metadata": {
    "deletable": false,
    "editable": false,
    "id": "38d1a030"
   },
   "source": [
    "У двух типов (безработные и пенсионеры) получатся аномально большие значения. Исправить такие значения сложно, поэтому оставьте их как есть. Тем более этот столбец не понадобится вам для исследования."
   ]
  },
  {
   "cell_type": "markdown",
   "id": "92e80c5b",
   "metadata": {
    "deletable": false,
    "editable": false,
    "id": "d8a9f147"
   },
   "source": [
    "**Задание 8. Выведите перечень уникальных значений столбца `children`.**"
   ]
  },
  {
   "cell_type": "code",
   "execution_count": 8,
   "id": "86b35dde",
   "metadata": {
    "ExecuteTime": {
     "end_time": "2023-07-21T16:14:03.486564Z",
     "start_time": "2023-07-21T16:14:03.470694Z"
    },
    "deletable": false,
    "id": "ef5056eb",
    "outputId": "6975b15c-7f95-4697-d16d-a0c79b657b03"
   },
   "outputs": [
    {
     "data": {
      "text/plain": [
       "array([ 1,  0,  3,  2, -1,  4, 20,  5])"
      ]
     },
     "execution_count": 8,
     "metadata": {},
     "output_type": "execute_result"
    }
   ],
   "source": [
    "data['children'].unique()"
   ]
  },
  {
   "cell_type": "markdown",
   "id": "63af438e",
   "metadata": {
    "deletable": false,
    "editable": false,
    "id": "40b9ebf2"
   },
   "source": [
    "**Задание 9. В столбце `children` есть два аномальных значения. Удалите строки, в которых встречаются такие аномальные значения из датафрейма `data`.**"
   ]
  },
  {
   "cell_type": "code",
   "execution_count": 9,
   "id": "4b7d6871",
   "metadata": {
    "ExecuteTime": {
     "end_time": "2023-07-21T16:14:03.525736Z",
     "start_time": "2023-07-21T16:14:03.500902Z"
    },
    "deletable": false,
    "id": "3ff9801d"
   },
   "outputs": [],
   "source": [
    "data = data[(data['children'] != -1) & (data['children'] != 20)]"
   ]
  },
  {
   "cell_type": "markdown",
   "id": "efc70b32",
   "metadata": {
    "deletable": false,
    "editable": false,
    "id": "bbc4d0ce"
   },
   "source": [
    "**Задание 10. Ещё раз выведите перечень уникальных значений столбца `children`, чтобы убедиться, что артефакты удалены.**"
   ]
  },
  {
   "cell_type": "code",
   "execution_count": 10,
   "id": "c8b60098",
   "metadata": {
    "ExecuteTime": {
     "end_time": "2023-07-21T16:14:03.566425Z",
     "start_time": "2023-07-21T16:14:03.538535Z"
    },
    "deletable": false,
    "id": "ad4fa8b7",
    "outputId": "b2097101-d49d-44d9-901b-32a65c9463d1"
   },
   "outputs": [
    {
     "data": {
      "text/plain": [
       "array([1, 0, 3, 2, 4, 5])"
      ]
     },
     "execution_count": 10,
     "metadata": {},
     "output_type": "execute_result"
    }
   ],
   "source": [
    "data['children'].unique()"
   ]
  },
  {
   "cell_type": "markdown",
   "id": "79816f3d",
   "metadata": {
    "deletable": false,
    "editable": false,
    "id": "75440b63"
   },
   "source": [
    "### Удаление пропусков (продолжение)"
   ]
  },
  {
   "cell_type": "markdown",
   "id": "3f011d40",
   "metadata": {
    "deletable": false,
    "editable": false,
    "id": "f4ea573f"
   },
   "source": [
    "**Задание 11. Заполните пропуски в столбце `days_employed` медианными значениями по каждого типа занятости `income_type`.**"
   ]
  },
  {
   "cell_type": "code",
   "execution_count": 11,
   "id": "0a906078",
   "metadata": {
    "ExecuteTime": {
     "end_time": "2023-07-21T16:14:03.712890Z",
     "start_time": "2023-07-21T16:14:03.590050Z"
    },
    "deletable": false,
    "id": "af6b1a7e"
   },
   "outputs": [],
   "source": [
    "for t in data['income_type'].unique():\n",
    "    data.loc[(data['income_type'] == t) & (data['days_employed'].isna()), 'days_employed'] = \\\n",
    "    data.loc[(data['income_type'] == t), 'days_employed'].median()"
   ]
  },
  {
   "cell_type": "markdown",
   "id": "33d96579",
   "metadata": {
    "deletable": false,
    "editable": false,
    "id": "2753f40d"
   },
   "source": [
    "**Задание 12. Убедитесь, что все пропуски заполнены. Проверьте себя и ещё раз выведите количество пропущенных значений для каждого столбца с помощью двух методов.**"
   ]
  },
  {
   "cell_type": "code",
   "execution_count": 12,
   "id": "71589afe",
   "metadata": {
    "ExecuteTime": {
     "end_time": "2023-07-21T16:14:03.792885Z",
     "start_time": "2023-07-21T16:14:03.724147Z"
    },
    "deletable": false,
    "id": "55f78bc2",
    "outputId": "8da1e4e1-358e-4e87-98c9-f261bce0a7b2"
   },
   "outputs": [
    {
     "data": {
      "text/plain": [
       "children            0\n",
       "days_employed       0\n",
       "dob_years           0\n",
       "education           0\n",
       "education_id        0\n",
       "family_status       0\n",
       "family_status_id    0\n",
       "gender              0\n",
       "income_type         0\n",
       "debt                0\n",
       "total_income        0\n",
       "purpose             0\n",
       "dtype: int64"
      ]
     },
     "execution_count": 12,
     "metadata": {},
     "output_type": "execute_result"
    }
   ],
   "source": [
    "data.isna().sum()"
   ]
  },
  {
   "cell_type": "markdown",
   "id": "b831f464",
   "metadata": {
    "deletable": false,
    "editable": false,
    "id": "ddc81e43"
   },
   "source": [
    "### Изменение типов данных"
   ]
  },
  {
   "cell_type": "markdown",
   "id": "8abc0ca7",
   "metadata": {
    "deletable": false,
    "editable": false,
    "id": "42d19d24"
   },
   "source": [
    "**Задание 13. Замените вещественный тип данных в столбце `total_income` на целочисленный с помощью метода `astype()`.**"
   ]
  },
  {
   "cell_type": "code",
   "execution_count": 13,
   "id": "1b27509d",
   "metadata": {
    "ExecuteTime": {
     "end_time": "2023-07-21T16:14:03.811368Z",
     "start_time": "2023-07-21T16:14:03.803389Z"
    },
    "deletable": false,
    "id": "920b65ad"
   },
   "outputs": [],
   "source": [
    "data['total_income'] = data['total_income'].astype(int)"
   ]
  },
  {
   "cell_type": "markdown",
   "id": "4b18003c",
   "metadata": {
    "deletable": false,
    "editable": false,
    "id": "80c420ba"
   },
   "source": [
    "### Обработка дубликатов"
   ]
  },
  {
   "cell_type": "markdown",
   "id": "a1e44e6d",
   "metadata": {
    "deletable": false,
    "editable": false
   },
   "source": [
    "**Задание 14. Обработайте неявные дубликаты в столбце `education`. В этом столбце есть одни и те же значения, но записанные по-разному: с использованием заглавных и строчных букв. Приведите их к нижнему регистру. Проверьте остальные столбцы.**"
   ]
  },
  {
   "cell_type": "code",
   "execution_count": 14,
   "id": "33e360ec",
   "metadata": {
    "ExecuteTime": {
     "end_time": "2023-07-21T16:14:03.868285Z",
     "start_time": "2023-07-21T16:14:03.836567Z"
    },
    "deletable": false
   },
   "outputs": [],
   "source": [
    "data['education'] = data['education'].str.lower()"
   ]
  },
  {
   "cell_type": "markdown",
   "id": "b2fb863f",
   "metadata": {
    "deletable": false,
    "editable": false,
    "id": "dc587695"
   },
   "source": [
    "**Задание 15. Выведите на экран количество строк-дубликатов в данных. Если такие строки присутствуют, удалите их.**"
   ]
  },
  {
   "cell_type": "code",
   "execution_count": 15,
   "id": "3028b393",
   "metadata": {
    "ExecuteTime": {
     "end_time": "2023-07-21T16:14:03.934489Z",
     "start_time": "2023-07-21T16:14:03.873079Z"
    },
    "deletable": false,
    "id": "3ee445e4",
    "outputId": "9684deba-1934-42d1-99e1-cda61740f822"
   },
   "outputs": [
    {
     "data": {
      "text/plain": [
       "71"
      ]
     },
     "execution_count": 15,
     "metadata": {},
     "output_type": "execute_result"
    }
   ],
   "source": [
    "data.duplicated().sum()"
   ]
  },
  {
   "cell_type": "code",
   "execution_count": 16,
   "id": "b3db8c3c",
   "metadata": {
    "ExecuteTime": {
     "end_time": "2023-07-21T16:14:04.006077Z",
     "start_time": "2023-07-21T16:14:03.943849Z"
    },
    "deletable": false,
    "id": "8575fe05"
   },
   "outputs": [],
   "source": [
    "data = data.drop_duplicates()"
   ]
  },
  {
   "cell_type": "markdown",
   "id": "ecd1a49a",
   "metadata": {
    "deletable": false,
    "editable": false,
    "id": "9904cf55"
   },
   "source": [
    "### Категоризация данных"
   ]
  },
  {
   "cell_type": "markdown",
   "id": "433eb8f0",
   "metadata": {
    "deletable": false,
    "editable": false,
    "id": "72fcc8a2"
   },
   "source": [
    "**Задание 16. На основании диапазонов, указанных ниже, создайте в датафрейме `data` столбец `total_income_category` с категориями:**\n",
    "\n",
    "- 0–30000 — `'E'`;\n",
    "- 30001–50000 — `'D'`;\n",
    "- 50001–200000 — `'C'`;\n",
    "- 200001–1000000 — `'B'`;\n",
    "- 1000001 и выше — `'A'`.\n",
    "\n",
    "\n",
    "**Например, кредитополучателю с доходом 25000 нужно назначить категорию `'E'`, а клиенту, получающему 235000, — `'B'`. Используйте собственную функцию с именем `categorize_income()` и метод `apply()`.**"
   ]
  },
  {
   "cell_type": "code",
   "execution_count": 17,
   "id": "393f66c7",
   "metadata": {
    "ExecuteTime": {
     "end_time": "2023-07-21T16:14:04.024577Z",
     "start_time": "2023-07-21T16:14:04.011551Z"
    },
    "deletable": false,
    "id": "e1771346"
   },
   "outputs": [],
   "source": [
    "def categorize_income(income):\n",
    "    try:\n",
    "        if 0 <= income <= 30000:\n",
    "            return 'E'\n",
    "        elif 30001 <= income <= 50000:\n",
    "            return 'D'\n",
    "        elif 50001 <= income <= 200000:\n",
    "            return 'C'\n",
    "        elif 200001 <= income <= 1000000:\n",
    "            return 'B'\n",
    "        elif income >= 1000001:\n",
    "            return 'A'\n",
    "    except:\n",
    "        pass"
   ]
  },
  {
   "cell_type": "code",
   "execution_count": 18,
   "id": "ad284fd7",
   "metadata": {
    "ExecuteTime": {
     "end_time": "2023-07-21T16:14:04.064687Z",
     "start_time": "2023-07-21T16:14:04.029365Z"
    },
    "deletable": false,
    "id": "d5f3586d"
   },
   "outputs": [],
   "source": [
    "data['total_income_category'] = data['total_income'].apply(categorize_income)"
   ]
  },
  {
   "cell_type": "markdown",
   "id": "0b811b8e",
   "metadata": {
    "deletable": false,
    "editable": false,
    "id": "dde49b5c"
   },
   "source": [
    "**Задание 17. Выведите на экран перечень уникальных целей взятия кредита из столбца `purpose`.**"
   ]
  },
  {
   "cell_type": "code",
   "execution_count": 19,
   "id": "4e32fa8c",
   "metadata": {
    "ExecuteTime": {
     "end_time": "2023-07-21T16:14:04.095959Z",
     "start_time": "2023-07-21T16:14:04.074972Z"
    },
    "deletable": false,
    "id": "f67ce9b3",
    "outputId": "673c12d9-7d7e-4ae0-9812-c622c89dd244"
   },
   "outputs": [
    {
     "data": {
      "text/plain": [
       "array(['покупка жилья', 'приобретение автомобиля',\n",
       "       'дополнительное образование', 'сыграть свадьбу',\n",
       "       'операции с жильем', 'образование', 'на проведение свадьбы',\n",
       "       'покупка жилья для семьи', 'покупка недвижимости',\n",
       "       'покупка коммерческой недвижимости', 'покупка жилой недвижимости',\n",
       "       'строительство собственной недвижимости', 'недвижимость',\n",
       "       'строительство недвижимости', 'на покупку подержанного автомобиля',\n",
       "       'на покупку своего автомобиля',\n",
       "       'операции с коммерческой недвижимостью',\n",
       "       'строительство жилой недвижимости', 'жилье',\n",
       "       'операции со своей недвижимостью', 'автомобили',\n",
       "       'заняться образованием', 'сделка с подержанным автомобилем',\n",
       "       'получение образования', 'автомобиль', 'свадьба',\n",
       "       'получение дополнительного образования', 'покупка своего жилья',\n",
       "       'операции с недвижимостью', 'получение высшего образования',\n",
       "       'свой автомобиль', 'сделка с автомобилем',\n",
       "       'профильное образование', 'высшее образование',\n",
       "       'покупка жилья для сдачи', 'на покупку автомобиля', 'ремонт жилью',\n",
       "       'заняться высшим образованием'], dtype=object)"
      ]
     },
     "execution_count": 19,
     "metadata": {},
     "output_type": "execute_result"
    }
   ],
   "source": [
    "data['purpose'].unique()"
   ]
  },
  {
   "cell_type": "markdown",
   "id": "24070e59",
   "metadata": {
    "deletable": false,
    "editable": false,
    "id": "85d0aef0"
   },
   "source": [
    "**Задание 18. Создайте функцию, которая на основании данных из столбца `purpose` сформирует новый столбец `purpose_category`, в который войдут следующие категории:**\n",
    "\n",
    "- `'операции с автомобилем'`,\n",
    "- `'операции с недвижимостью'`,\n",
    "- `'проведение свадьбы'`,\n",
    "- `'получение образования'`.\n",
    "\n",
    "**Например, если в столбце `purpose` находится подстрока `'на покупку автомобиля'`, то в столбце `purpose_category` должна появиться строка `'операции с автомобилем'`.**\n",
    "\n",
    "**Используйте собственную функцию с именем `categorize_purpose()` и метод `apply()`. Изучите данные в столбце `purpose` и определите, какие подстроки помогут вам правильно определить категорию.**"
   ]
  },
  {
   "cell_type": "code",
   "execution_count": 20,
   "id": "3b6ac333",
   "metadata": {
    "ExecuteTime": {
     "end_time": "2023-07-21T16:14:04.121967Z",
     "start_time": "2023-07-21T16:14:04.106231Z"
    },
    "deletable": false,
    "id": "e149fab4"
   },
   "outputs": [],
   "source": [
    "def categorize_purpose(row):\n",
    "    try:\n",
    "        if 'автом' in row:\n",
    "            return 'операции с автомобилем'\n",
    "        elif 'жил' in row or 'недвиж' in row:\n",
    "            return 'операции с недвижимостью'\n",
    "        elif 'свад' in row:\n",
    "            return 'проведение свадьбы'\n",
    "        elif 'образов' in row:\n",
    "            return 'получение образования'\n",
    "    except:\n",
    "        return 'нет категории'"
   ]
  },
  {
   "cell_type": "code",
   "execution_count": 21,
   "id": "92a98d84",
   "metadata": {
    "ExecuteTime": {
     "end_time": "2023-07-21T16:14:04.156198Z",
     "start_time": "2023-07-21T16:14:04.126934Z"
    },
    "deletable": false,
    "id": "bf36e69b"
   },
   "outputs": [],
   "source": [
    "data['purpose_category'] = data['purpose'].apply(categorize_purpose)"
   ]
  },
  {
   "cell_type": "markdown",
   "id": "f91bd16f",
   "metadata": {
    "deletable": false,
    "editable": false,
    "id": "09b242bf"
   },
   "source": [
    "### Шаг 3. Исследуйте данные и ответьте на вопросы"
   ]
  },
  {
   "cell_type": "markdown",
   "id": "bb882896",
   "metadata": {
    "deletable": false,
    "id": "c5d66278"
   },
   "source": [
    "#### Есть ли зависимость между количеством детей и возвратом кредита в срок?"
   ]
  },
  {
   "cell_type": "code",
   "execution_count": 22,
   "id": "a34c8794",
   "metadata": {
    "ExecuteTime": {
     "end_time": "2023-07-21T16:14:04.283670Z",
     "start_time": "2023-07-21T16:14:04.163606Z"
    },
    "deletable": false,
    "id": "2cacfc4a"
   },
   "outputs": [
    {
     "data": {
      "text/html": [
       "<div>\n",
       "<style scoped>\n",
       "    .dataframe tbody tr th:only-of-type {\n",
       "        vertical-align: middle;\n",
       "    }\n",
       "\n",
       "    .dataframe tbody tr th {\n",
       "        vertical-align: top;\n",
       "    }\n",
       "\n",
       "    .dataframe thead th {\n",
       "        text-align: right;\n",
       "    }\n",
       "</style>\n",
       "<table border=\"1\" class=\"dataframe\">\n",
       "  <thead>\n",
       "    <tr style=\"text-align: right;\">\n",
       "      <th></th>\n",
       "      <th>Всего кредитополучателей</th>\n",
       "      <th>Всего должников</th>\n",
       "      <th>Доля должников</th>\n",
       "    </tr>\n",
       "    <tr>\n",
       "      <th>children</th>\n",
       "      <th></th>\n",
       "      <th></th>\n",
       "      <th></th>\n",
       "    </tr>\n",
       "  </thead>\n",
       "  <tbody>\n",
       "    <tr>\n",
       "      <th>0</th>\n",
       "      <td>14091</td>\n",
       "      <td>1063</td>\n",
       "      <td>0.075438</td>\n",
       "    </tr>\n",
       "    <tr>\n",
       "      <th>1</th>\n",
       "      <td>4808</td>\n",
       "      <td>444</td>\n",
       "      <td>0.092346</td>\n",
       "    </tr>\n",
       "    <tr>\n",
       "      <th>2</th>\n",
       "      <td>2052</td>\n",
       "      <td>194</td>\n",
       "      <td>0.094542</td>\n",
       "    </tr>\n",
       "    <tr>\n",
       "      <th>3</th>\n",
       "      <td>330</td>\n",
       "      <td>27</td>\n",
       "      <td>0.081818</td>\n",
       "    </tr>\n",
       "    <tr>\n",
       "      <th>4</th>\n",
       "      <td>41</td>\n",
       "      <td>4</td>\n",
       "      <td>0.097561</td>\n",
       "    </tr>\n",
       "    <tr>\n",
       "      <th>5</th>\n",
       "      <td>9</td>\n",
       "      <td>0</td>\n",
       "      <td>0.000000</td>\n",
       "    </tr>\n",
       "  </tbody>\n",
       "</table>\n",
       "</div>"
      ],
      "text/plain": [
       "          Всего кредитополучателей  Всего должников  Доля должников\n",
       "children                                                           \n",
       "0                            14091             1063        0.075438\n",
       "1                             4808              444        0.092346\n",
       "2                             2052              194        0.094542\n",
       "3                              330               27        0.081818\n",
       "4                               41                4        0.097561\n",
       "5                                9                0        0.000000"
      ]
     },
     "execution_count": 22,
     "metadata": {},
     "output_type": "execute_result"
    }
   ],
   "source": [
    "def data_pivot(category):\n",
    "    return data.pivot_table(['debt'], index=[category], aggfunc = ['count', 'sum', 'mean'])\\\n",
    ".rename(columns={'count':'Всего кредитополучателей', 'sum':'Всего должников', 'mean':'Доля должников'}).droplevel(1,axis=1)\n",
    "data_pivot(data['children'])"
   ]
  },
  {
   "cell_type": "markdown",
   "id": "8306858d",
   "metadata": {
    "deletable": false,
    "id": "3a6b99ec"
   },
   "source": [
    "**Вывод:** Люди без детей реже имеют дебиторскую задолженность, лишь 7.54%. Люди с тремя детьми немного чаще, 8.18%. Про людей с четырьмя и с пятью детьми сложно сказать, так как из всей выборки только у 9 людей 5 детей, у 41 человека 4 детей, а в нашей выборке это очень маленькие значения для полноценной оценки.\n",
    "Следовательно, самые надежные плательщики - люди без детей."
   ]
  },
  {
   "cell_type": "markdown",
   "id": "572fd98a",
   "metadata": {
    "deletable": false,
    "id": "97be82ca"
   },
   "source": [
    "#### Есть ли зависимость между семейным положением и возвратом кредита в срок?"
   ]
  },
  {
   "cell_type": "code",
   "execution_count": 23,
   "id": "59ce4ee9",
   "metadata": {
    "ExecuteTime": {
     "end_time": "2023-07-21T16:14:04.388495Z",
     "start_time": "2023-07-21T16:14:04.289968Z"
    },
    "deletable": false,
    "id": "dc3f7ee8"
   },
   "outputs": [
    {
     "data": {
      "text/html": [
       "<div>\n",
       "<style scoped>\n",
       "    .dataframe tbody tr th:only-of-type {\n",
       "        vertical-align: middle;\n",
       "    }\n",
       "\n",
       "    .dataframe tbody tr th {\n",
       "        vertical-align: top;\n",
       "    }\n",
       "\n",
       "    .dataframe thead th {\n",
       "        text-align: right;\n",
       "    }\n",
       "</style>\n",
       "<table border=\"1\" class=\"dataframe\">\n",
       "  <thead>\n",
       "    <tr style=\"text-align: right;\">\n",
       "      <th></th>\n",
       "      <th>Всего кредитополучателей</th>\n",
       "      <th>Всего должников</th>\n",
       "      <th>Доля должников</th>\n",
       "    </tr>\n",
       "    <tr>\n",
       "      <th>family_status</th>\n",
       "      <th></th>\n",
       "      <th></th>\n",
       "      <th></th>\n",
       "    </tr>\n",
       "  </thead>\n",
       "  <tbody>\n",
       "    <tr>\n",
       "      <th>Не женат / не замужем</th>\n",
       "      <td>2796</td>\n",
       "      <td>273</td>\n",
       "      <td>0.097639</td>\n",
       "    </tr>\n",
       "    <tr>\n",
       "      <th>в разводе</th>\n",
       "      <td>1189</td>\n",
       "      <td>84</td>\n",
       "      <td>0.070648</td>\n",
       "    </tr>\n",
       "    <tr>\n",
       "      <th>вдовец / вдова</th>\n",
       "      <td>951</td>\n",
       "      <td>63</td>\n",
       "      <td>0.066246</td>\n",
       "    </tr>\n",
       "    <tr>\n",
       "      <th>гражданский брак</th>\n",
       "      <td>4134</td>\n",
       "      <td>385</td>\n",
       "      <td>0.093130</td>\n",
       "    </tr>\n",
       "    <tr>\n",
       "      <th>женат / замужем</th>\n",
       "      <td>12261</td>\n",
       "      <td>927</td>\n",
       "      <td>0.075606</td>\n",
       "    </tr>\n",
       "  </tbody>\n",
       "</table>\n",
       "</div>"
      ],
      "text/plain": [
       "                       Всего кредитополучателей  Всего должников  \\\n",
       "family_status                                                      \n",
       "Не женат / не замужем                      2796              273   \n",
       "в разводе                                  1189               84   \n",
       "вдовец / вдова                              951               63   \n",
       "гражданский брак                           4134              385   \n",
       "женат / замужем                           12261              927   \n",
       "\n",
       "                       Доля должников  \n",
       "family_status                          \n",
       "Не женат / не замужем        0.097639  \n",
       "в разводе                    0.070648  \n",
       "вдовец / вдова               0.066246  \n",
       "гражданский брак             0.093130  \n",
       "женат / замужем              0.075606  "
      ]
     },
     "execution_count": 23,
     "metadata": {},
     "output_type": "execute_result"
    }
   ],
   "source": [
    "data_pivot(data['family_status'])"
   ]
  },
  {
   "cell_type": "markdown",
   "id": "4033ad50",
   "metadata": {
    "deletable": false,
    "id": "1cef7837"
   },
   "source": [
    "**Вывод:** Самые надёжные заёмщики - вдовы/вдовцы и люди в разводе, самые ненадёжные - не женатые/ не замужем"
   ]
  },
  {
   "cell_type": "markdown",
   "id": "b14c5987",
   "metadata": {
    "deletable": false,
    "id": "1e8b2fca"
   },
   "source": [
    "#### Есть ли зависимость между уровнем дохода и возвратом кредита в срок?"
   ]
  },
  {
   "cell_type": "code",
   "execution_count": 24,
   "id": "c257e46d",
   "metadata": {
    "ExecuteTime": {
     "end_time": "2023-07-21T16:14:04.467001Z",
     "start_time": "2023-07-21T16:14:04.394177Z"
    },
    "deletable": false,
    "id": "cd7e3720"
   },
   "outputs": [
    {
     "data": {
      "text/html": [
       "<div>\n",
       "<style scoped>\n",
       "    .dataframe tbody tr th:only-of-type {\n",
       "        vertical-align: middle;\n",
       "    }\n",
       "\n",
       "    .dataframe tbody tr th {\n",
       "        vertical-align: top;\n",
       "    }\n",
       "\n",
       "    .dataframe thead th {\n",
       "        text-align: right;\n",
       "    }\n",
       "</style>\n",
       "<table border=\"1\" class=\"dataframe\">\n",
       "  <thead>\n",
       "    <tr style=\"text-align: right;\">\n",
       "      <th></th>\n",
       "      <th>Всего кредитополучателей</th>\n",
       "      <th>Всего должников</th>\n",
       "      <th>Доля должников</th>\n",
       "    </tr>\n",
       "    <tr>\n",
       "      <th>total_income_category</th>\n",
       "      <th></th>\n",
       "      <th></th>\n",
       "      <th></th>\n",
       "    </tr>\n",
       "  </thead>\n",
       "  <tbody>\n",
       "    <tr>\n",
       "      <th>A</th>\n",
       "      <td>25</td>\n",
       "      <td>2</td>\n",
       "      <td>0.080000</td>\n",
       "    </tr>\n",
       "    <tr>\n",
       "      <th>B</th>\n",
       "      <td>5014</td>\n",
       "      <td>354</td>\n",
       "      <td>0.070602</td>\n",
       "    </tr>\n",
       "    <tr>\n",
       "      <th>C</th>\n",
       "      <td>15921</td>\n",
       "      <td>1353</td>\n",
       "      <td>0.084982</td>\n",
       "    </tr>\n",
       "    <tr>\n",
       "      <th>D</th>\n",
       "      <td>349</td>\n",
       "      <td>21</td>\n",
       "      <td>0.060172</td>\n",
       "    </tr>\n",
       "    <tr>\n",
       "      <th>E</th>\n",
       "      <td>22</td>\n",
       "      <td>2</td>\n",
       "      <td>0.090909</td>\n",
       "    </tr>\n",
       "  </tbody>\n",
       "</table>\n",
       "</div>"
      ],
      "text/plain": [
       "                       Всего кредитополучателей  Всего должников  \\\n",
       "total_income_category                                              \n",
       "A                                            25                2   \n",
       "B                                          5014              354   \n",
       "C                                         15921             1353   \n",
       "D                                           349               21   \n",
       "E                                            22                2   \n",
       "\n",
       "                       Доля должников  \n",
       "total_income_category                  \n",
       "A                            0.080000  \n",
       "B                            0.070602  \n",
       "C                            0.084982  \n",
       "D                            0.060172  \n",
       "E                            0.090909  "
      ]
     },
     "execution_count": 24,
     "metadata": {},
     "output_type": "execute_result"
    }
   ],
   "source": [
    "data_pivot(data['total_income_category'])"
   ]
  },
  {
   "cell_type": "markdown",
   "id": "f14cbd8f",
   "metadata": {
    "deletable": false,
    "id": "e8593def"
   },
   "source": [
    "**Вывод:** Самые надёжные заёмщики - люди из B категории, т.е. с доходом от 200001 до 1000000, чуть менее надёжные - из C категории, т.е. с доходом от 50001 до 200000, по остальным категориям судить сложно из-за недостатка данных"
   ]
  },
  {
   "cell_type": "markdown",
   "id": "abcd2df8",
   "metadata": {
    "deletable": false,
    "id": "99ecbd1f"
   },
   "source": [
    "#### Как разные цели кредита влияют на его возврат в срок?"
   ]
  },
  {
   "cell_type": "code",
   "execution_count": 25,
   "id": "e922c02a",
   "metadata": {
    "ExecuteTime": {
     "end_time": "2023-07-21T16:14:04.530680Z",
     "start_time": "2023-07-21T16:14:04.472431Z"
    },
    "deletable": false,
    "id": "2b687290"
   },
   "outputs": [
    {
     "data": {
      "text/html": [
       "<div>\n",
       "<style scoped>\n",
       "    .dataframe tbody tr th:only-of-type {\n",
       "        vertical-align: middle;\n",
       "    }\n",
       "\n",
       "    .dataframe tbody tr th {\n",
       "        vertical-align: top;\n",
       "    }\n",
       "\n",
       "    .dataframe thead th {\n",
       "        text-align: right;\n",
       "    }\n",
       "</style>\n",
       "<table border=\"1\" class=\"dataframe\">\n",
       "  <thead>\n",
       "    <tr style=\"text-align: right;\">\n",
       "      <th></th>\n",
       "      <th>Всего кредитополучателей</th>\n",
       "      <th>Всего должников</th>\n",
       "      <th>Доля должников</th>\n",
       "    </tr>\n",
       "    <tr>\n",
       "      <th>purpose_category</th>\n",
       "      <th></th>\n",
       "      <th></th>\n",
       "      <th></th>\n",
       "    </tr>\n",
       "  </thead>\n",
       "  <tbody>\n",
       "    <tr>\n",
       "      <th>операции с автомобилем</th>\n",
       "      <td>4279</td>\n",
       "      <td>400</td>\n",
       "      <td>0.093480</td>\n",
       "    </tr>\n",
       "    <tr>\n",
       "      <th>операции с недвижимостью</th>\n",
       "      <td>10751</td>\n",
       "      <td>780</td>\n",
       "      <td>0.072551</td>\n",
       "    </tr>\n",
       "    <tr>\n",
       "      <th>получение образования</th>\n",
       "      <td>3988</td>\n",
       "      <td>369</td>\n",
       "      <td>0.092528</td>\n",
       "    </tr>\n",
       "    <tr>\n",
       "      <th>проведение свадьбы</th>\n",
       "      <td>2313</td>\n",
       "      <td>183</td>\n",
       "      <td>0.079118</td>\n",
       "    </tr>\n",
       "  </tbody>\n",
       "</table>\n",
       "</div>"
      ],
      "text/plain": [
       "                          Всего кредитополучателей  Всего должников  \\\n",
       "purpose_category                                                      \n",
       "операции с автомобилем                        4279              400   \n",
       "операции с недвижимостью                     10751              780   \n",
       "получение образования                         3988              369   \n",
       "проведение свадьбы                            2313              183   \n",
       "\n",
       "                          Доля должников  \n",
       "purpose_category                          \n",
       "операции с автомобилем          0.093480  \n",
       "операции с недвижимостью        0.072551  \n",
       "получение образования           0.092528  \n",
       "проведение свадьбы              0.079118  "
      ]
     },
     "execution_count": 25,
     "metadata": {},
     "output_type": "execute_result"
    }
   ],
   "source": [
    "data_pivot(data['purpose_category'])"
   ]
  },
  {
   "cell_type": "markdown",
   "id": "ad6ca908",
   "metadata": {
    "deletable": false,
    "id": "b4bb2ce6"
   },
   "source": [
    "**Вывод:** Меньше всего задолженностей по кредитам с целью операции с недвижимостью, больше всего - по кредитам с целью операции с автомобилем"
   ]
  },
  {
   "cell_type": "markdown",
   "id": "6722beb1",
   "metadata": {
    "deletable": false,
    "id": "09c3ac4c"
   },
   "source": [
    "#### Приведите возможные причины появления пропусков в исходных данных."
   ]
  },
  {
   "cell_type": "markdown",
   "id": "c37dd11d",
   "metadata": {
    "deletable": false,
    "id": "9da2ceda"
   },
   "source": [
    "*Ответ:* Возможен человеческий фактор, например, клиент не предоставил подтверждающих документов, возможно их и не требовали (например, может быть не требуются какие-то данные если клиент имеет хорошую кредитную историю в этом банке или сумма кредита небольшая), или могла быть ошибка сотрудника, заполнявшего данные. Также возможен технический фактор - произошел какой-то сбой, возникла ошибка во время переноса, объединения, выгрузки или загрузки данных."
   ]
  },
  {
   "cell_type": "markdown",
   "id": "46d00415",
   "metadata": {
    "deletable": false,
    "id": "7b0487d6"
   },
   "source": [
    "#### Объясните, почему заполнить пропуски медианным значением — лучшее решение для количественных переменных."
   ]
  },
  {
   "cell_type": "markdown",
   "id": "7ee50818",
   "metadata": {
    "deletable": false,
    "id": "7ecf2b8e"
   },
   "source": [
    "*Ответ:* Потому что медианное значение позволяет сгладить влияние значений, выделяющихся из общей выборки."
   ]
  },
  {
   "cell_type": "markdown",
   "id": "9c6f10af",
   "metadata": {
    "deletable": false,
    "editable": false,
    "id": "6db5255a"
   },
   "source": [
    "### Шаг 4: общий вывод."
   ]
  },
  {
   "cell_type": "markdown",
   "id": "8e3c780a",
   "metadata": {
    "deletable": false,
    "id": "bad65432"
   },
   "source": [
    "Напишите ваш общий вывод."
   ]
  },
  {
   "cell_type": "markdown",
   "id": "d1f9f856",
   "metadata": {},
   "source": [
    "В зависимости от вероятности возврата клиентом кредита в срок можно регулировать процентную ставку кредитного продукта, а также выдавать отказ потенциальному заёмщику в случае его неблагонадёжности.\n",
    "Проведён анализ данных со статистикой платёжеспособности клиентов, удалены пропуски в данных, обработаны аномальные значения,  обработаны дубликаты. Также быда сделана категоризация данных и исследована зависимость между количеством детей, семейным положением, целью получения кредита, уровнем дохода и возвратом кредита в срок.\n",
    "Выяснили, что вероятность возврата кредита в срок меняется следующим образом:\n",
    "- вероятность задолженности низкая (7.54%), если у заёмщика нет детей, и выше, если у заёмщика 1 или 2 детей (9.23% и 9.45% соответственно)\n",
    "- самые надёжные заёмщики по семейному положению - вдовы/вдовцы (вероятность задолженности 6.62%) и люди в разводе (вероятность задолженности 7.06%), самые ненадёжные - не женатые/ не замужем (вероятность задолженности 9.76%)\n",
    "- самые надёжные заёмщики по уровню дохода - люди с доходом от 200001 до 1000000 (вероятность задолженности 7.06%), чуть менее надёжные - с доходом от 50001 до 200000 (вероятность задолженности 8.49%), по остальным категориям судить сложно из-за недостатка данных\n",
    "- меньше всего задолженностей по кредитам с целью операции с недвижимостью (7.25%), больше всего - по кредитам с целью операции с автомобилем (9.34%)\n",
    "\n",
    "Таким образом, самый надёжный заёмщик - человек без детей, вдовец/вдова или в разводе, с доходом от 200001 до 1000000, который берёт кредит для операции с недвижимостью."
   ]
  }
 ],
 "metadata": {
  "ExecuteTimeLog": [
   {
    "duration": 53,
    "start_time": "2022-12-23T15:01:00.044Z"
   },
   {
    "duration": 571,
    "start_time": "2022-12-23T15:01:07.006Z"
   },
   {
    "duration": 22,
    "start_time": "2022-12-23T15:01:07.579Z"
   },
   {
    "duration": 18,
    "start_time": "2022-12-23T15:01:07.603Z"
   },
   {
    "duration": 41,
    "start_time": "2022-12-23T15:01:07.623Z"
   },
   {
    "duration": 30,
    "start_time": "2022-12-23T15:01:07.666Z"
   },
   {
    "duration": 3,
    "start_time": "2022-12-23T15:01:07.698Z"
   },
   {
    "duration": 44,
    "start_time": "2022-12-23T15:01:07.703Z"
   },
   {
    "duration": 7,
    "start_time": "2022-12-23T15:01:07.749Z"
   },
   {
    "duration": 9,
    "start_time": "2022-12-23T15:01:07.758Z"
   },
   {
    "duration": 12,
    "start_time": "2022-12-23T15:01:07.769Z"
   },
   {
    "duration": 47,
    "start_time": "2022-12-23T15:01:07.782Z"
   },
   {
    "duration": 14,
    "start_time": "2022-12-23T15:01:07.839Z"
   },
   {
    "duration": 8,
    "start_time": "2022-12-23T15:01:07.856Z"
   },
   {
    "duration": 16,
    "start_time": "2022-12-23T15:01:07.867Z"
   },
   {
    "duration": 23,
    "start_time": "2022-12-23T15:01:07.885Z"
   },
   {
    "duration": 21,
    "start_time": "2022-12-23T15:01:07.910Z"
   },
   {
    "duration": 24,
    "start_time": "2022-12-23T15:01:07.933Z"
   },
   {
    "duration": 10,
    "start_time": "2022-12-23T15:01:07.959Z"
   },
   {
    "duration": 11,
    "start_time": "2022-12-23T15:01:07.970Z"
   },
   {
    "duration": 5,
    "start_time": "2022-12-23T15:01:07.983Z"
   },
   {
    "duration": 14,
    "start_time": "2022-12-23T15:01:07.990Z"
   },
   {
    "duration": 36,
    "start_time": "2022-12-23T15:01:08.006Z"
   },
   {
    "duration": 13,
    "start_time": "2022-12-23T15:01:08.044Z"
   },
   {
    "duration": 6,
    "start_time": "2022-12-23T15:01:08.059Z"
   },
   {
    "duration": 11,
    "start_time": "2022-12-23T15:01:08.067Z"
   },
   {
    "duration": 5,
    "start_time": "2022-12-23T15:01:22.699Z"
   },
   {
    "duration": 5,
    "start_time": "2022-12-23T15:02:46.161Z"
   },
   {
    "duration": 7,
    "start_time": "2022-12-23T15:02:55.996Z"
   },
   {
    "duration": 5,
    "start_time": "2022-12-23T15:03:13.559Z"
   },
   {
    "duration": 5,
    "start_time": "2022-12-23T15:04:55.692Z"
   },
   {
    "duration": 6,
    "start_time": "2022-12-23T15:05:08.526Z"
   },
   {
    "duration": 13,
    "start_time": "2022-12-23T15:05:13.412Z"
   },
   {
    "duration": 48,
    "start_time": "2022-12-23T15:21:38.957Z"
   },
   {
    "duration": 543,
    "start_time": "2022-12-23T15:21:44.610Z"
   },
   {
    "duration": 22,
    "start_time": "2022-12-23T15:21:45.155Z"
   },
   {
    "duration": 14,
    "start_time": "2022-12-23T15:21:45.179Z"
   },
   {
    "duration": 9,
    "start_time": "2022-12-23T15:21:45.194Z"
   },
   {
    "duration": 41,
    "start_time": "2022-12-23T15:21:45.206Z"
   },
   {
    "duration": 3,
    "start_time": "2022-12-23T15:21:45.248Z"
   },
   {
    "duration": 10,
    "start_time": "2022-12-23T15:21:45.253Z"
   },
   {
    "duration": 4,
    "start_time": "2022-12-23T15:21:45.265Z"
   },
   {
    "duration": 10,
    "start_time": "2022-12-23T15:21:45.270Z"
   },
   {
    "duration": 4,
    "start_time": "2022-12-23T15:21:45.281Z"
   },
   {
    "duration": 59,
    "start_time": "2022-12-23T15:21:45.287Z"
   },
   {
    "duration": 8,
    "start_time": "2022-12-23T15:21:45.348Z"
   },
   {
    "duration": 6,
    "start_time": "2022-12-23T15:21:45.357Z"
   },
   {
    "duration": 12,
    "start_time": "2022-12-23T15:21:45.366Z"
   },
   {
    "duration": 18,
    "start_time": "2022-12-23T15:21:45.379Z"
   },
   {
    "duration": 36,
    "start_time": "2022-12-23T15:21:45.398Z"
   },
   {
    "duration": 3,
    "start_time": "2022-12-23T15:21:45.436Z"
   },
   {
    "duration": 18,
    "start_time": "2022-12-23T15:21:45.441Z"
   },
   {
    "duration": 8,
    "start_time": "2022-12-23T15:21:45.461Z"
   },
   {
    "duration": 4,
    "start_time": "2022-12-23T15:21:45.471Z"
   },
   {
    "duration": 12,
    "start_time": "2022-12-23T15:21:45.477Z"
   },
   {
    "duration": 8,
    "start_time": "2022-12-23T15:21:45.490Z"
   },
   {
    "duration": 4,
    "start_time": "2022-12-23T15:21:45.500Z"
   },
   {
    "duration": 2,
    "start_time": "2022-12-23T15:21:45.522Z"
   },
   {
    "duration": 5,
    "start_time": "2022-12-23T15:21:45.526Z"
   },
   {
    "duration": 25,
    "start_time": "2022-12-23T15:29:36.622Z"
   },
   {
    "duration": 12,
    "start_time": "2022-12-23T15:29:48.313Z"
   },
   {
    "duration": 21,
    "start_time": "2022-12-23T15:29:55.910Z"
   },
   {
    "duration": 7,
    "start_time": "2022-12-23T15:30:25.410Z"
   },
   {
    "duration": 28,
    "start_time": "2022-12-23T15:30:42.177Z"
   },
   {
    "duration": 149,
    "start_time": "2022-12-23T15:30:53.465Z"
   },
   {
    "duration": 6,
    "start_time": "2022-12-23T15:31:14.509Z"
   },
   {
    "duration": 6,
    "start_time": "2022-12-23T15:32:31.609Z"
   },
   {
    "duration": 64,
    "start_time": "2022-12-23T15:42:37.613Z"
   },
   {
    "duration": 6,
    "start_time": "2022-12-23T15:43:24.519Z"
   },
   {
    "duration": 7,
    "start_time": "2022-12-23T15:44:18.424Z"
   },
   {
    "duration": 517,
    "start_time": "2022-12-23T15:44:23.917Z"
   },
   {
    "duration": 23,
    "start_time": "2022-12-23T15:44:24.436Z"
   },
   {
    "duration": 14,
    "start_time": "2022-12-23T15:44:24.460Z"
   },
   {
    "duration": 8,
    "start_time": "2022-12-23T15:44:24.476Z"
   },
   {
    "duration": 61,
    "start_time": "2022-12-23T15:44:24.486Z"
   },
   {
    "duration": 3,
    "start_time": "2022-12-23T15:44:24.549Z"
   },
   {
    "duration": 11,
    "start_time": "2022-12-23T15:44:24.554Z"
   },
   {
    "duration": 4,
    "start_time": "2022-12-23T15:44:24.566Z"
   },
   {
    "duration": 9,
    "start_time": "2022-12-23T15:44:24.572Z"
   },
   {
    "duration": 4,
    "start_time": "2022-12-23T15:44:24.583Z"
   },
   {
    "duration": 60,
    "start_time": "2022-12-23T15:44:24.589Z"
   },
   {
    "duration": 9,
    "start_time": "2022-12-23T15:44:24.651Z"
   },
   {
    "duration": 7,
    "start_time": "2022-12-23T15:44:24.661Z"
   },
   {
    "duration": 13,
    "start_time": "2022-12-23T15:44:24.670Z"
   },
   {
    "duration": 46,
    "start_time": "2022-12-23T15:44:24.685Z"
   },
   {
    "duration": 18,
    "start_time": "2022-12-23T15:44:24.733Z"
   },
   {
    "duration": 4,
    "start_time": "2022-12-23T15:44:24.752Z"
   },
   {
    "duration": 15,
    "start_time": "2022-12-23T15:44:24.757Z"
   },
   {
    "duration": 5,
    "start_time": "2022-12-23T15:44:24.774Z"
   },
   {
    "duration": 5,
    "start_time": "2022-12-23T15:44:24.780Z"
   },
   {
    "duration": 37,
    "start_time": "2022-12-23T15:44:24.786Z"
   },
   {
    "duration": 6,
    "start_time": "2022-12-23T15:44:24.825Z"
   },
   {
    "duration": 5,
    "start_time": "2022-12-23T15:44:24.832Z"
   },
   {
    "duration": 6,
    "start_time": "2022-12-23T15:44:24.838Z"
   },
   {
    "duration": 5,
    "start_time": "2022-12-23T15:44:24.845Z"
   },
   {
    "duration": 6,
    "start_time": "2022-12-23T15:45:01.460Z"
   },
   {
    "duration": 6,
    "start_time": "2022-12-23T15:45:29.611Z"
   },
   {
    "duration": 6,
    "start_time": "2022-12-23T15:45:43.611Z"
   },
   {
    "duration": 6,
    "start_time": "2022-12-23T15:45:47.127Z"
   },
   {
    "duration": 65,
    "start_time": "2022-12-23T15:48:27.511Z"
   },
   {
    "duration": 14,
    "start_time": "2022-12-23T15:48:42.680Z"
   },
   {
    "duration": 6,
    "start_time": "2022-12-23T15:48:47.915Z"
   },
   {
    "duration": 7,
    "start_time": "2022-12-23T15:49:05.759Z"
   },
   {
    "duration": 22,
    "start_time": "2022-12-23T15:49:17.333Z"
   },
   {
    "duration": 6,
    "start_time": "2022-12-23T15:49:32.062Z"
   },
   {
    "duration": 6,
    "start_time": "2022-12-23T15:49:37.748Z"
   },
   {
    "duration": 12,
    "start_time": "2022-12-23T15:49:44.276Z"
   },
   {
    "duration": 6,
    "start_time": "2022-12-23T15:49:47.364Z"
   },
   {
    "duration": 7,
    "start_time": "2022-12-23T15:50:03.171Z"
   },
   {
    "duration": 22,
    "start_time": "2022-12-23T15:50:08.708Z"
   },
   {
    "duration": 8,
    "start_time": "2022-12-23T15:51:38.269Z"
   },
   {
    "duration": 19,
    "start_time": "2022-12-23T15:52:13.181Z"
   },
   {
    "duration": 9,
    "start_time": "2022-12-23T15:53:10.528Z"
   },
   {
    "duration": 8,
    "start_time": "2022-12-23T15:53:25.831Z"
   },
   {
    "duration": 8,
    "start_time": "2022-12-23T15:55:36.584Z"
   },
   {
    "duration": 11,
    "start_time": "2022-12-23T15:55:49.251Z"
   },
   {
    "duration": 8,
    "start_time": "2022-12-23T15:56:02.368Z"
   },
   {
    "duration": 9,
    "start_time": "2022-12-23T15:56:15.453Z"
   },
   {
    "duration": 8,
    "start_time": "2022-12-23T15:56:40.359Z"
   },
   {
    "duration": 485,
    "start_time": "2022-12-23T15:56:48.497Z"
   },
   {
    "duration": 24,
    "start_time": "2022-12-23T15:56:48.984Z"
   },
   {
    "duration": 17,
    "start_time": "2022-12-23T15:56:49.010Z"
   },
   {
    "duration": 9,
    "start_time": "2022-12-23T15:56:49.029Z"
   },
   {
    "duration": 35,
    "start_time": "2022-12-23T15:56:49.040Z"
   },
   {
    "duration": 5,
    "start_time": "2022-12-23T15:56:49.077Z"
   },
   {
    "duration": 14,
    "start_time": "2022-12-23T15:56:49.083Z"
   },
   {
    "duration": 5,
    "start_time": "2022-12-23T15:56:49.124Z"
   },
   {
    "duration": 9,
    "start_time": "2022-12-23T15:56:49.131Z"
   },
   {
    "duration": 5,
    "start_time": "2022-12-23T15:56:49.143Z"
   },
   {
    "duration": 34,
    "start_time": "2022-12-23T15:56:49.149Z"
   },
   {
    "duration": 8,
    "start_time": "2022-12-23T15:56:49.185Z"
   },
   {
    "duration": 27,
    "start_time": "2022-12-23T15:56:49.195Z"
   },
   {
    "duration": 22,
    "start_time": "2022-12-23T15:56:49.224Z"
   },
   {
    "duration": 21,
    "start_time": "2022-12-23T15:56:49.248Z"
   },
   {
    "duration": 17,
    "start_time": "2022-12-23T15:56:49.271Z"
   },
   {
    "duration": 4,
    "start_time": "2022-12-23T15:56:49.289Z"
   },
   {
    "duration": 29,
    "start_time": "2022-12-23T15:56:49.294Z"
   },
   {
    "duration": 9,
    "start_time": "2022-12-23T15:56:49.325Z"
   },
   {
    "duration": 4,
    "start_time": "2022-12-23T15:56:49.335Z"
   },
   {
    "duration": 11,
    "start_time": "2022-12-23T15:56:49.340Z"
   },
   {
    "duration": 8,
    "start_time": "2022-12-23T15:56:49.353Z"
   },
   {
    "duration": 4,
    "start_time": "2022-12-23T15:56:49.362Z"
   },
   {
    "duration": 9,
    "start_time": "2022-12-23T15:56:49.367Z"
   },
   {
    "duration": 8,
    "start_time": "2022-12-23T15:56:49.377Z"
   },
   {
    "duration": 9,
    "start_time": "2022-12-23T15:57:03.956Z"
   },
   {
    "duration": 74,
    "start_time": "2022-12-23T16:00:13.309Z"
   },
   {
    "duration": 71,
    "start_time": "2022-12-23T16:00:21.397Z"
   },
   {
    "duration": 77,
    "start_time": "2022-12-23T16:01:02.894Z"
   },
   {
    "duration": 70,
    "start_time": "2022-12-23T16:01:17.542Z"
   },
   {
    "duration": 76,
    "start_time": "2022-12-23T16:01:23.428Z"
   },
   {
    "duration": 71,
    "start_time": "2022-12-23T16:01:28.708Z"
   },
   {
    "duration": 7,
    "start_time": "2022-12-23T16:03:24.728Z"
   },
   {
    "duration": 67,
    "start_time": "2022-12-23T16:06:23.423Z"
   },
   {
    "duration": 9,
    "start_time": "2022-12-23T16:06:32.344Z"
   },
   {
    "duration": 9,
    "start_time": "2022-12-23T16:07:01.206Z"
   },
   {
    "duration": 15,
    "start_time": "2022-12-23T16:07:18.750Z"
   },
   {
    "duration": 14,
    "start_time": "2022-12-23T16:07:44.042Z"
   },
   {
    "duration": 13,
    "start_time": "2022-12-23T16:07:58.946Z"
   },
   {
    "duration": 9,
    "start_time": "2022-12-23T16:08:09.103Z"
   },
   {
    "duration": 10,
    "start_time": "2022-12-23T16:08:31.202Z"
   },
   {
    "duration": 10,
    "start_time": "2022-12-23T16:09:15.224Z"
   },
   {
    "duration": 10,
    "start_time": "2022-12-23T16:09:31.395Z"
   },
   {
    "duration": 24,
    "start_time": "2022-12-23T16:10:58.236Z"
   },
   {
    "duration": 21,
    "start_time": "2022-12-23T16:11:24.406Z"
   },
   {
    "duration": 10,
    "start_time": "2022-12-23T16:11:41.317Z"
   },
   {
    "duration": 10,
    "start_time": "2022-12-23T16:11:54.499Z"
   },
   {
    "duration": 49,
    "start_time": "2022-12-24T15:26:41.962Z"
   },
   {
    "duration": 736,
    "start_time": "2022-12-24T15:26:50.124Z"
   },
   {
    "duration": 24,
    "start_time": "2022-12-24T15:26:50.862Z"
   },
   {
    "duration": 15,
    "start_time": "2022-12-24T15:26:50.887Z"
   },
   {
    "duration": 10,
    "start_time": "2022-12-24T15:26:50.903Z"
   },
   {
    "duration": 34,
    "start_time": "2022-12-24T15:26:50.915Z"
   },
   {
    "duration": 4,
    "start_time": "2022-12-24T15:26:50.950Z"
   },
   {
    "duration": 12,
    "start_time": "2022-12-24T15:26:50.956Z"
   },
   {
    "duration": 5,
    "start_time": "2022-12-24T15:26:50.969Z"
   },
   {
    "duration": 10,
    "start_time": "2022-12-24T15:26:50.975Z"
   },
   {
    "duration": 28,
    "start_time": "2022-12-24T15:26:50.987Z"
   },
   {
    "duration": 37,
    "start_time": "2022-12-24T15:26:51.017Z"
   },
   {
    "duration": 10,
    "start_time": "2022-12-24T15:26:51.056Z"
   },
   {
    "duration": 11,
    "start_time": "2022-12-24T15:26:51.068Z"
   },
   {
    "duration": 30,
    "start_time": "2022-12-24T15:26:51.082Z"
   },
   {
    "duration": 28,
    "start_time": "2022-12-24T15:26:51.114Z"
   },
   {
    "duration": 18,
    "start_time": "2022-12-24T15:26:51.144Z"
   },
   {
    "duration": 4,
    "start_time": "2022-12-24T15:26:51.164Z"
   },
   {
    "duration": 13,
    "start_time": "2022-12-24T15:26:51.169Z"
   },
   {
    "duration": 31,
    "start_time": "2022-12-24T15:26:51.183Z"
   },
   {
    "duration": 4,
    "start_time": "2022-12-24T15:26:51.216Z"
   },
   {
    "duration": 12,
    "start_time": "2022-12-24T15:26:51.221Z"
   },
   {
    "duration": 13,
    "start_time": "2022-12-24T15:26:51.235Z"
   },
   {
    "duration": 2,
    "start_time": "2022-12-24T15:26:51.250Z"
   },
   {
    "duration": 4,
    "start_time": "2022-12-24T15:26:51.254Z"
   },
   {
    "duration": 4,
    "start_time": "2022-12-24T15:26:51.260Z"
   },
   {
    "duration": 14,
    "start_time": "2022-12-24T15:27:20.020Z"
   },
   {
    "duration": 56,
    "start_time": "2022-12-24T15:28:42.751Z"
   },
   {
    "duration": 15,
    "start_time": "2022-12-24T15:28:47.883Z"
   },
   {
    "duration": 13,
    "start_time": "2022-12-24T15:29:02.744Z"
   },
   {
    "duration": 17,
    "start_time": "2022-12-24T15:29:42.644Z"
   },
   {
    "duration": 15,
    "start_time": "2022-12-24T15:29:45.625Z"
   },
   {
    "duration": 15,
    "start_time": "2022-12-24T15:29:52.561Z"
   },
   {
    "duration": 15,
    "start_time": "2022-12-24T15:30:20.350Z"
   },
   {
    "duration": 70,
    "start_time": "2022-12-24T15:31:44.764Z"
   },
   {
    "duration": 11,
    "start_time": "2022-12-24T15:32:06.369Z"
   },
   {
    "duration": 17,
    "start_time": "2022-12-24T15:32:15.573Z"
   },
   {
    "duration": 13,
    "start_time": "2022-12-24T15:32:25.744Z"
   },
   {
    "duration": 17,
    "start_time": "2022-12-24T15:32:30.820Z"
   },
   {
    "duration": 16,
    "start_time": "2022-12-24T15:33:09.377Z"
   },
   {
    "duration": 14,
    "start_time": "2022-12-24T15:33:12.344Z"
   },
   {
    "duration": 19,
    "start_time": "2022-12-24T15:33:20.752Z"
   },
   {
    "duration": 48,
    "start_time": "2022-12-24T15:33:36.882Z"
   },
   {
    "duration": 15,
    "start_time": "2022-12-24T15:33:52.908Z"
   },
   {
    "duration": 12,
    "start_time": "2022-12-24T15:34:13.062Z"
   },
   {
    "duration": 18,
    "start_time": "2022-12-24T15:34:21.138Z"
   },
   {
    "duration": 19,
    "start_time": "2022-12-24T15:34:48.657Z"
   },
   {
    "duration": 17,
    "start_time": "2022-12-24T15:35:51.114Z"
   },
   {
    "duration": 21,
    "start_time": "2022-12-24T15:39:28.818Z"
   },
   {
    "duration": 20,
    "start_time": "2022-12-24T15:39:53.084Z"
   },
   {
    "duration": 15,
    "start_time": "2022-12-24T15:40:46.824Z"
   },
   {
    "duration": 17,
    "start_time": "2022-12-24T15:41:06.412Z"
   },
   {
    "duration": 12,
    "start_time": "2022-12-24T15:41:31.886Z"
   },
   {
    "duration": 19,
    "start_time": "2022-12-24T15:42:34.809Z"
   },
   {
    "duration": 15,
    "start_time": "2022-12-24T15:43:01.162Z"
   },
   {
    "duration": 13,
    "start_time": "2022-12-24T15:43:10.665Z"
   },
   {
    "duration": 16,
    "start_time": "2022-12-24T15:44:02.947Z"
   },
   {
    "duration": 14,
    "start_time": "2022-12-24T15:44:49.818Z"
   },
   {
    "duration": 21,
    "start_time": "2022-12-24T15:50:51.033Z"
   },
   {
    "duration": 13,
    "start_time": "2022-12-24T15:51:14.660Z"
   },
   {
    "duration": 16,
    "start_time": "2022-12-24T15:52:17.263Z"
   },
   {
    "duration": 13,
    "start_time": "2022-12-24T15:52:48.316Z"
   },
   {
    "duration": 13,
    "start_time": "2022-12-24T15:53:01.684Z"
   },
   {
    "duration": 14,
    "start_time": "2022-12-24T15:53:29.875Z"
   },
   {
    "duration": 18,
    "start_time": "2022-12-24T15:59:23.931Z"
   },
   {
    "duration": 1131,
    "start_time": "2022-12-24T16:00:11.761Z"
   },
   {
    "duration": 16,
    "start_time": "2022-12-24T16:00:54.022Z"
   },
   {
    "duration": 67,
    "start_time": "2022-12-24T16:15:04.532Z"
   },
   {
    "duration": 456,
    "start_time": "2022-12-24T17:09:11.136Z"
   },
   {
    "duration": 22,
    "start_time": "2022-12-24T17:09:11.594Z"
   },
   {
    "duration": 16,
    "start_time": "2022-12-24T17:09:11.618Z"
   },
   {
    "duration": 20,
    "start_time": "2022-12-24T17:09:11.636Z"
   },
   {
    "duration": 32,
    "start_time": "2022-12-24T17:09:11.659Z"
   },
   {
    "duration": 3,
    "start_time": "2022-12-24T17:09:11.693Z"
   },
   {
    "duration": 26,
    "start_time": "2022-12-24T17:09:11.697Z"
   },
   {
    "duration": 5,
    "start_time": "2022-12-24T17:09:11.725Z"
   },
   {
    "duration": 23,
    "start_time": "2022-12-24T17:09:11.732Z"
   },
   {
    "duration": 7,
    "start_time": "2022-12-24T17:09:11.758Z"
   },
   {
    "duration": 33,
    "start_time": "2022-12-24T17:09:11.767Z"
   },
   {
    "duration": 20,
    "start_time": "2022-12-24T17:09:11.802Z"
   },
   {
    "duration": 4,
    "start_time": "2022-12-24T17:09:11.824Z"
   },
   {
    "duration": 16,
    "start_time": "2022-12-24T17:09:11.829Z"
   },
   {
    "duration": 28,
    "start_time": "2022-12-24T17:09:11.846Z"
   },
   {
    "duration": 17,
    "start_time": "2022-12-24T17:09:11.876Z"
   },
   {
    "duration": 3,
    "start_time": "2022-12-24T17:09:11.895Z"
   },
   {
    "duration": 30,
    "start_time": "2022-12-24T17:09:11.900Z"
   },
   {
    "duration": 20,
    "start_time": "2022-12-24T17:09:11.932Z"
   },
   {
    "duration": 6,
    "start_time": "2022-12-24T17:09:11.953Z"
   },
   {
    "duration": 12,
    "start_time": "2022-12-24T17:09:11.960Z"
   },
   {
    "duration": 12,
    "start_time": "2022-12-24T17:09:11.973Z"
   },
   {
    "duration": 12,
    "start_time": "2022-12-24T17:09:11.987Z"
   },
   {
    "duration": 41,
    "start_time": "2022-12-24T17:09:12.000Z"
   },
   {
    "duration": 15,
    "start_time": "2022-12-24T17:09:12.042Z"
   },
   {
    "duration": 476,
    "start_time": "2022-12-24T17:12:36.011Z"
   },
   {
    "duration": 22,
    "start_time": "2022-12-24T17:12:36.489Z"
   },
   {
    "duration": 16,
    "start_time": "2022-12-24T17:12:36.512Z"
   },
   {
    "duration": 20,
    "start_time": "2022-12-24T17:12:36.530Z"
   },
   {
    "duration": 32,
    "start_time": "2022-12-24T17:12:36.551Z"
   },
   {
    "duration": 3,
    "start_time": "2022-12-24T17:12:36.585Z"
   },
   {
    "duration": 10,
    "start_time": "2022-12-24T17:12:36.590Z"
   },
   {
    "duration": 21,
    "start_time": "2022-12-24T17:12:36.602Z"
   },
   {
    "duration": 19,
    "start_time": "2022-12-24T17:12:36.625Z"
   },
   {
    "duration": 4,
    "start_time": "2022-12-24T17:12:36.647Z"
   },
   {
    "duration": 34,
    "start_time": "2022-12-24T17:12:36.653Z"
   },
   {
    "duration": 8,
    "start_time": "2022-12-24T17:12:36.689Z"
   },
   {
    "duration": 3,
    "start_time": "2022-12-24T17:12:36.699Z"
   },
   {
    "duration": 29,
    "start_time": "2022-12-24T17:12:36.704Z"
   },
   {
    "duration": 21,
    "start_time": "2022-12-24T17:12:36.735Z"
   },
   {
    "duration": 17,
    "start_time": "2022-12-24T17:12:36.757Z"
   },
   {
    "duration": 4,
    "start_time": "2022-12-24T17:12:36.775Z"
   },
   {
    "duration": 13,
    "start_time": "2022-12-24T17:12:36.780Z"
   },
   {
    "duration": 5,
    "start_time": "2022-12-24T17:12:36.795Z"
   },
   {
    "duration": 5,
    "start_time": "2022-12-24T17:12:36.822Z"
   },
   {
    "duration": 17,
    "start_time": "2022-12-24T17:12:36.828Z"
   },
   {
    "duration": 24,
    "start_time": "2022-12-24T17:12:36.847Z"
   },
   {
    "duration": 1302,
    "start_time": "2022-12-24T17:12:36.873Z"
   },
   {
    "duration": 14,
    "start_time": "2022-12-24T17:12:38.177Z"
   },
   {
    "duration": 14,
    "start_time": "2022-12-24T17:12:38.193Z"
   },
   {
    "duration": 18,
    "start_time": "2022-12-24T17:12:38.221Z"
   },
   {
    "duration": 49,
    "start_time": "2022-12-25T18:11:39.009Z"
   },
   {
    "duration": 847,
    "start_time": "2022-12-25T18:11:56.922Z"
   },
   {
    "duration": 36,
    "start_time": "2022-12-25T18:11:57.772Z"
   },
   {
    "duration": 35,
    "start_time": "2022-12-25T18:11:57.811Z"
   },
   {
    "duration": 32,
    "start_time": "2022-12-25T18:11:57.849Z"
   },
   {
    "duration": 74,
    "start_time": "2022-12-25T18:11:57.884Z"
   },
   {
    "duration": 4,
    "start_time": "2022-12-25T18:11:57.961Z"
   },
   {
    "duration": 77,
    "start_time": "2022-12-25T18:11:57.967Z"
   },
   {
    "duration": 29,
    "start_time": "2022-12-25T18:11:58.046Z"
   },
   {
    "duration": 31,
    "start_time": "2022-12-25T18:11:58.078Z"
   },
   {
    "duration": 12,
    "start_time": "2022-12-25T18:11:58.113Z"
   },
   {
    "duration": 77,
    "start_time": "2022-12-25T18:11:58.128Z"
   },
   {
    "duration": 17,
    "start_time": "2022-12-25T18:11:58.207Z"
   },
   {
    "duration": 11,
    "start_time": "2022-12-25T18:11:58.226Z"
   },
   {
    "duration": 35,
    "start_time": "2022-12-25T18:11:58.239Z"
   },
   {
    "duration": 58,
    "start_time": "2022-12-25T18:11:58.276Z"
   },
   {
    "duration": 28,
    "start_time": "2022-12-25T18:11:58.336Z"
   },
   {
    "duration": 12,
    "start_time": "2022-12-25T18:11:58.366Z"
   },
   {
    "duration": 42,
    "start_time": "2022-12-25T18:11:58.381Z"
   },
   {
    "duration": 19,
    "start_time": "2022-12-25T18:11:58.426Z"
   },
   {
    "duration": 27,
    "start_time": "2022-12-25T18:11:58.448Z"
   },
   {
    "duration": 24,
    "start_time": "2022-12-25T18:11:58.477Z"
   },
   {
    "duration": 95,
    "start_time": "2022-12-25T18:11:58.503Z"
   },
   {
    "duration": 0,
    "start_time": "2022-12-25T18:11:58.600Z"
   },
   {
    "duration": 0,
    "start_time": "2022-12-25T18:11:58.601Z"
   },
   {
    "duration": 0,
    "start_time": "2022-12-25T18:11:58.602Z"
   },
   {
    "duration": 0,
    "start_time": "2022-12-25T18:11:58.604Z"
   },
   {
    "duration": 20,
    "start_time": "2022-12-25T18:12:26.502Z"
   },
   {
    "duration": 28,
    "start_time": "2022-12-25T18:12:35.621Z"
   },
   {
    "duration": 837,
    "start_time": "2022-12-25T18:15:42.203Z"
   },
   {
    "duration": 35,
    "start_time": "2022-12-25T18:15:58.224Z"
   },
   {
    "duration": 13,
    "start_time": "2022-12-25T18:16:17.223Z"
   },
   {
    "duration": 15,
    "start_time": "2022-12-25T18:17:21.428Z"
   },
   {
    "duration": 16,
    "start_time": "2022-12-25T18:18:05.495Z"
   },
   {
    "duration": 10,
    "start_time": "2022-12-25T18:18:29.662Z"
   },
   {
    "duration": 17,
    "start_time": "2022-12-25T18:18:32.727Z"
   },
   {
    "duration": 20,
    "start_time": "2022-12-25T18:19:12.437Z"
   },
   {
    "duration": 50,
    "start_time": "2022-12-25T18:20:25.934Z"
   },
   {
    "duration": 21,
    "start_time": "2022-12-25T18:20:39.973Z"
   },
   {
    "duration": 17,
    "start_time": "2022-12-25T18:21:02.866Z"
   },
   {
    "duration": 23,
    "start_time": "2022-12-25T18:21:14.464Z"
   },
   {
    "duration": 11,
    "start_time": "2022-12-25T18:27:36.132Z"
   },
   {
    "duration": 12,
    "start_time": "2022-12-25T18:27:57.134Z"
   },
   {
    "duration": 11,
    "start_time": "2022-12-25T18:27:58.958Z"
   },
   {
    "duration": 25,
    "start_time": "2022-12-25T18:28:02.366Z"
   },
   {
    "duration": 48,
    "start_time": "2022-12-26T14:21:26.035Z"
   },
   {
    "duration": 510,
    "start_time": "2022-12-26T14:21:39.424Z"
   },
   {
    "duration": 25,
    "start_time": "2022-12-26T14:21:39.936Z"
   },
   {
    "duration": 15,
    "start_time": "2022-12-26T14:21:39.963Z"
   },
   {
    "duration": 14,
    "start_time": "2022-12-26T14:21:39.981Z"
   },
   {
    "duration": 46,
    "start_time": "2022-12-26T14:21:39.997Z"
   },
   {
    "duration": 5,
    "start_time": "2022-12-26T14:21:40.044Z"
   },
   {
    "duration": 23,
    "start_time": "2022-12-26T14:21:40.051Z"
   },
   {
    "duration": 9,
    "start_time": "2022-12-26T14:21:40.076Z"
   },
   {
    "duration": 14,
    "start_time": "2022-12-26T14:21:40.087Z"
   },
   {
    "duration": 6,
    "start_time": "2022-12-26T14:21:40.104Z"
   },
   {
    "duration": 46,
    "start_time": "2022-12-26T14:21:40.112Z"
   },
   {
    "duration": 9,
    "start_time": "2022-12-26T14:21:40.160Z"
   },
   {
    "duration": 9,
    "start_time": "2022-12-26T14:21:40.171Z"
   },
   {
    "duration": 15,
    "start_time": "2022-12-26T14:21:40.181Z"
   },
   {
    "duration": 19,
    "start_time": "2022-12-26T14:21:40.198Z"
   },
   {
    "duration": 18,
    "start_time": "2022-12-26T14:21:40.218Z"
   },
   {
    "duration": 3,
    "start_time": "2022-12-26T14:21:40.238Z"
   },
   {
    "duration": 35,
    "start_time": "2022-12-26T14:21:40.243Z"
   },
   {
    "duration": 17,
    "start_time": "2022-12-26T14:21:40.280Z"
   },
   {
    "duration": 17,
    "start_time": "2022-12-26T14:21:40.299Z"
   },
   {
    "duration": 27,
    "start_time": "2022-12-26T14:21:40.317Z"
   },
   {
    "duration": 68,
    "start_time": "2022-12-26T14:21:40.346Z"
   },
   {
    "duration": 0,
    "start_time": "2022-12-26T14:21:40.416Z"
   },
   {
    "duration": 0,
    "start_time": "2022-12-26T14:21:40.417Z"
   },
   {
    "duration": 0,
    "start_time": "2022-12-26T14:21:40.418Z"
   },
   {
    "duration": 0,
    "start_time": "2022-12-26T14:21:40.419Z"
   },
   {
    "duration": 10,
    "start_time": "2022-12-26T14:22:06.769Z"
   },
   {
    "duration": 17,
    "start_time": "2022-12-26T14:22:59.252Z"
   },
   {
    "duration": 16,
    "start_time": "2022-12-26T14:23:21.109Z"
   },
   {
    "duration": 70,
    "start_time": "2022-12-26T14:24:35.514Z"
   },
   {
    "duration": 25,
    "start_time": "2022-12-26T14:24:45.393Z"
   },
   {
    "duration": 23,
    "start_time": "2022-12-26T14:25:05.945Z"
   },
   {
    "duration": 25,
    "start_time": "2022-12-26T14:25:15.521Z"
   },
   {
    "duration": 25,
    "start_time": "2022-12-26T14:25:56.597Z"
   },
   {
    "duration": 26,
    "start_time": "2022-12-26T14:26:24.635Z"
   },
   {
    "duration": 35,
    "start_time": "2022-12-26T14:27:23.888Z"
   },
   {
    "duration": 533,
    "start_time": "2022-12-26T14:28:19.579Z"
   },
   {
    "duration": 26,
    "start_time": "2022-12-26T14:28:20.114Z"
   },
   {
    "duration": 35,
    "start_time": "2022-12-26T14:28:20.141Z"
   },
   {
    "duration": 40,
    "start_time": "2022-12-26T14:28:20.178Z"
   },
   {
    "duration": 70,
    "start_time": "2022-12-26T14:28:20.220Z"
   },
   {
    "duration": 3,
    "start_time": "2022-12-26T14:28:20.292Z"
   },
   {
    "duration": 14,
    "start_time": "2022-12-26T14:28:20.297Z"
   },
   {
    "duration": 12,
    "start_time": "2022-12-26T14:28:20.313Z"
   },
   {
    "duration": 13,
    "start_time": "2022-12-26T14:28:20.327Z"
   },
   {
    "duration": 7,
    "start_time": "2022-12-26T14:28:20.342Z"
   },
   {
    "duration": 44,
    "start_time": "2022-12-26T14:28:20.351Z"
   },
   {
    "duration": 9,
    "start_time": "2022-12-26T14:28:20.397Z"
   },
   {
    "duration": 6,
    "start_time": "2022-12-26T14:28:20.408Z"
   },
   {
    "duration": 19,
    "start_time": "2022-12-26T14:28:20.415Z"
   },
   {
    "duration": 32,
    "start_time": "2022-12-26T14:28:20.436Z"
   },
   {
    "duration": 25,
    "start_time": "2022-12-26T14:28:20.470Z"
   },
   {
    "duration": 4,
    "start_time": "2022-12-26T14:28:20.497Z"
   },
   {
    "duration": 15,
    "start_time": "2022-12-26T14:28:20.504Z"
   },
   {
    "duration": 16,
    "start_time": "2022-12-26T14:28:20.521Z"
   },
   {
    "duration": 10,
    "start_time": "2022-12-26T14:28:20.539Z"
   },
   {
    "duration": 27,
    "start_time": "2022-12-26T14:28:20.551Z"
   },
   {
    "duration": 30,
    "start_time": "2022-12-26T14:28:20.580Z"
   },
   {
    "duration": 1434,
    "start_time": "2022-12-26T14:28:20.612Z"
   },
   {
    "duration": 18,
    "start_time": "2022-12-26T14:28:22.048Z"
   },
   {
    "duration": 27,
    "start_time": "2022-12-26T14:28:22.068Z"
   },
   {
    "duration": 20,
    "start_time": "2022-12-26T14:28:22.097Z"
   },
   {
    "duration": 31,
    "start_time": "2022-12-26T14:29:43.483Z"
   },
   {
    "duration": 95,
    "start_time": "2022-12-26T14:32:02.227Z"
   },
   {
    "duration": 10,
    "start_time": "2022-12-26T14:32:09.168Z"
   },
   {
    "duration": 22,
    "start_time": "2022-12-26T14:32:34.697Z"
   },
   {
    "duration": 26,
    "start_time": "2022-12-26T14:32:44.923Z"
   },
   {
    "duration": 30,
    "start_time": "2022-12-26T14:33:15.991Z"
   },
   {
    "duration": 24,
    "start_time": "2022-12-26T14:37:57.320Z"
   },
   {
    "duration": 22,
    "start_time": "2022-12-26T14:39:50.729Z"
   },
   {
    "duration": 485,
    "start_time": "2022-12-26T14:40:01.298Z"
   },
   {
    "duration": 22,
    "start_time": "2022-12-26T14:40:01.785Z"
   },
   {
    "duration": 62,
    "start_time": "2022-12-26T14:40:01.809Z"
   },
   {
    "duration": 20,
    "start_time": "2022-12-26T14:40:01.874Z"
   },
   {
    "duration": 52,
    "start_time": "2022-12-26T14:40:01.896Z"
   },
   {
    "duration": 58,
    "start_time": "2022-12-26T14:40:01.950Z"
   },
   {
    "duration": 34,
    "start_time": "2022-12-26T14:40:02.009Z"
   },
   {
    "duration": 19,
    "start_time": "2022-12-26T14:40:02.045Z"
   },
   {
    "duration": 57,
    "start_time": "2022-12-26T14:40:02.067Z"
   },
   {
    "duration": 18,
    "start_time": "2022-12-26T14:40:02.127Z"
   },
   {
    "duration": 69,
    "start_time": "2022-12-26T14:40:02.147Z"
   },
   {
    "duration": 14,
    "start_time": "2022-12-26T14:40:02.218Z"
   },
   {
    "duration": 17,
    "start_time": "2022-12-26T14:40:02.234Z"
   },
   {
    "duration": 22,
    "start_time": "2022-12-26T14:40:02.254Z"
   },
   {
    "duration": 50,
    "start_time": "2022-12-26T14:40:02.277Z"
   },
   {
    "duration": 42,
    "start_time": "2022-12-26T14:40:02.329Z"
   },
   {
    "duration": 4,
    "start_time": "2022-12-26T14:40:02.372Z"
   },
   {
    "duration": 23,
    "start_time": "2022-12-26T14:40:02.378Z"
   },
   {
    "duration": 26,
    "start_time": "2022-12-26T14:40:02.403Z"
   },
   {
    "duration": 13,
    "start_time": "2022-12-26T14:40:02.431Z"
   },
   {
    "duration": 28,
    "start_time": "2022-12-26T14:40:02.445Z"
   },
   {
    "duration": 65,
    "start_time": "2022-12-26T14:40:02.475Z"
   },
   {
    "duration": 1142,
    "start_time": "2022-12-26T14:40:02.541Z"
   },
   {
    "duration": 31,
    "start_time": "2022-12-26T14:40:03.685Z"
   },
   {
    "duration": 12,
    "start_time": "2022-12-26T14:40:03.718Z"
   },
   {
    "duration": 37,
    "start_time": "2022-12-26T14:40:03.732Z"
   },
   {
    "duration": 35,
    "start_time": "2022-12-26T14:40:15.585Z"
   },
   {
    "duration": 27,
    "start_time": "2022-12-26T14:44:44.242Z"
   },
   {
    "duration": 31,
    "start_time": "2022-12-26T14:45:12.126Z"
   },
   {
    "duration": 34,
    "start_time": "2022-12-26T14:45:23.973Z"
   },
   {
    "duration": 39,
    "start_time": "2022-12-26T14:48:28.906Z"
   },
   {
    "duration": 44,
    "start_time": "2022-12-26T14:53:03.458Z"
   },
   {
    "duration": 35,
    "start_time": "2022-12-26T14:53:54.736Z"
   },
   {
    "duration": 30,
    "start_time": "2022-12-26T15:02:04.662Z"
   },
   {
    "duration": 686,
    "start_time": "2022-12-26T20:19:28.842Z"
   },
   {
    "duration": 22,
    "start_time": "2022-12-26T20:19:29.530Z"
   },
   {
    "duration": 14,
    "start_time": "2022-12-26T20:19:29.553Z"
   },
   {
    "duration": 14,
    "start_time": "2022-12-26T20:19:29.569Z"
   },
   {
    "duration": 49,
    "start_time": "2022-12-26T20:19:29.585Z"
   },
   {
    "duration": 4,
    "start_time": "2022-12-26T20:19:29.635Z"
   },
   {
    "duration": 11,
    "start_time": "2022-12-26T20:19:29.641Z"
   },
   {
    "duration": 11,
    "start_time": "2022-12-26T20:19:29.654Z"
   },
   {
    "duration": 10,
    "start_time": "2022-12-26T20:19:29.667Z"
   },
   {
    "duration": 19,
    "start_time": "2022-12-26T20:19:29.679Z"
   },
   {
    "duration": 33,
    "start_time": "2022-12-26T20:19:29.699Z"
   },
   {
    "duration": 9,
    "start_time": "2022-12-26T20:19:29.734Z"
   },
   {
    "duration": 25,
    "start_time": "2022-12-26T20:19:29.745Z"
   },
   {
    "duration": 24,
    "start_time": "2022-12-26T20:19:29.771Z"
   },
   {
    "duration": 27,
    "start_time": "2022-12-26T20:19:29.796Z"
   },
   {
    "duration": 27,
    "start_time": "2022-12-26T20:19:29.824Z"
   },
   {
    "duration": 4,
    "start_time": "2022-12-26T20:19:29.853Z"
   },
   {
    "duration": 23,
    "start_time": "2022-12-26T20:19:29.859Z"
   },
   {
    "duration": 13,
    "start_time": "2022-12-26T20:19:29.884Z"
   },
   {
    "duration": 7,
    "start_time": "2022-12-26T20:19:29.899Z"
   },
   {
    "duration": 28,
    "start_time": "2022-12-26T20:19:29.908Z"
   },
   {
    "duration": 37,
    "start_time": "2022-12-26T20:19:29.938Z"
   },
   {
    "duration": 1305,
    "start_time": "2022-12-26T20:19:29.977Z"
   },
   {
    "duration": 41,
    "start_time": "2022-12-26T20:19:31.284Z"
   },
   {
    "duration": 30,
    "start_time": "2022-12-26T20:19:31.327Z"
   },
   {
    "duration": 57,
    "start_time": "2022-12-26T20:19:31.359Z"
   },
   {
    "duration": 495,
    "start_time": "2022-12-26T23:39:56.675Z"
   },
   {
    "duration": 21,
    "start_time": "2022-12-26T23:39:57.172Z"
   },
   {
    "duration": 14,
    "start_time": "2022-12-26T23:39:57.195Z"
   },
   {
    "duration": 9,
    "start_time": "2022-12-26T23:39:57.211Z"
   },
   {
    "duration": 33,
    "start_time": "2022-12-26T23:39:57.221Z"
   },
   {
    "duration": 3,
    "start_time": "2022-12-26T23:39:57.256Z"
   },
   {
    "duration": 37,
    "start_time": "2022-12-26T23:39:57.260Z"
   },
   {
    "duration": 4,
    "start_time": "2022-12-26T23:39:57.299Z"
   },
   {
    "duration": 7,
    "start_time": "2022-12-26T23:39:57.305Z"
   },
   {
    "duration": 5,
    "start_time": "2022-12-26T23:39:57.315Z"
   },
   {
    "duration": 34,
    "start_time": "2022-12-26T23:39:57.322Z"
   },
   {
    "duration": 10,
    "start_time": "2022-12-26T23:39:57.358Z"
   },
   {
    "duration": 4,
    "start_time": "2022-12-26T23:39:57.397Z"
   },
   {
    "duration": 12,
    "start_time": "2022-12-26T23:39:57.403Z"
   },
   {
    "duration": 19,
    "start_time": "2022-12-26T23:39:57.417Z"
   },
   {
    "duration": 16,
    "start_time": "2022-12-26T23:39:57.438Z"
   },
   {
    "duration": 4,
    "start_time": "2022-12-26T23:39:57.456Z"
   },
   {
    "duration": 40,
    "start_time": "2022-12-26T23:39:57.461Z"
   },
   {
    "duration": 8,
    "start_time": "2022-12-26T23:39:57.502Z"
   },
   {
    "duration": 4,
    "start_time": "2022-12-26T23:39:57.512Z"
   },
   {
    "duration": 10,
    "start_time": "2022-12-26T23:39:57.517Z"
   },
   {
    "duration": 32,
    "start_time": "2022-12-26T23:39:57.529Z"
   },
   {
    "duration": 1148,
    "start_time": "2022-12-26T23:39:57.563Z"
   },
   {
    "duration": 39,
    "start_time": "2022-12-26T23:39:58.713Z"
   },
   {
    "duration": 47,
    "start_time": "2022-12-26T23:39:58.753Z"
   },
   {
    "duration": 31,
    "start_time": "2022-12-26T23:39:58.802Z"
   },
   {
    "duration": 620,
    "start_time": "2022-12-27T20:36:09.418Z"
   },
   {
    "duration": 29,
    "start_time": "2022-12-27T20:36:10.040Z"
   },
   {
    "duration": 16,
    "start_time": "2022-12-27T20:36:10.071Z"
   },
   {
    "duration": 12,
    "start_time": "2022-12-27T20:36:10.090Z"
   },
   {
    "duration": 77,
    "start_time": "2022-12-27T20:36:10.104Z"
   },
   {
    "duration": 12,
    "start_time": "2022-12-27T20:36:10.183Z"
   },
   {
    "duration": 26,
    "start_time": "2022-12-27T20:36:10.197Z"
   },
   {
    "duration": 6,
    "start_time": "2022-12-27T20:36:10.225Z"
   },
   {
    "duration": 13,
    "start_time": "2022-12-27T20:36:10.233Z"
   },
   {
    "duration": 5,
    "start_time": "2022-12-27T20:36:10.250Z"
   },
   {
    "duration": 40,
    "start_time": "2022-12-27T20:36:10.256Z"
   },
   {
    "duration": 11,
    "start_time": "2022-12-27T20:36:10.298Z"
   },
   {
    "duration": 7,
    "start_time": "2022-12-27T20:36:10.311Z"
   },
   {
    "duration": 42,
    "start_time": "2022-12-27T20:36:10.321Z"
   },
   {
    "duration": 32,
    "start_time": "2022-12-27T20:36:10.366Z"
   },
   {
    "duration": 22,
    "start_time": "2022-12-27T20:36:10.400Z"
   },
   {
    "duration": 5,
    "start_time": "2022-12-27T20:36:10.424Z"
   },
   {
    "duration": 13,
    "start_time": "2022-12-27T20:36:10.450Z"
   },
   {
    "duration": 11,
    "start_time": "2022-12-27T20:36:10.465Z"
   },
   {
    "duration": 4,
    "start_time": "2022-12-27T20:36:10.479Z"
   },
   {
    "duration": 21,
    "start_time": "2022-12-27T20:36:10.485Z"
   },
   {
    "duration": 48,
    "start_time": "2022-12-27T20:36:10.508Z"
   },
   {
    "duration": 1364,
    "start_time": "2022-12-27T20:36:10.558Z"
   },
   {
    "duration": 47,
    "start_time": "2022-12-27T20:36:11.924Z"
   },
   {
    "duration": 29,
    "start_time": "2022-12-27T20:36:11.973Z"
   },
   {
    "duration": 48,
    "start_time": "2022-12-27T20:36:12.004Z"
   }
  ],
  "celltoolbar": "Отсутствует",
  "colab": {
   "name": "dpp_template_part2.ipynb",
   "provenance": []
  },
  "kernelspec": {
   "display_name": "Python 3 (ipykernel)",
   "language": "python",
   "name": "python3"
  },
  "language_info": {
   "codemirror_mode": {
    "name": "ipython",
    "version": 3
   },
   "file_extension": ".py",
   "mimetype": "text/x-python",
   "name": "python",
   "nbconvert_exporter": "python",
   "pygments_lexer": "ipython3",
   "version": "3.9.13"
  },
  "toc": {
   "base_numbering": 1,
   "nav_menu": {},
   "number_sections": true,
   "sideBar": true,
   "skip_h1_title": true,
   "title_cell": "Table of Contents",
   "title_sidebar": "Contents",
   "toc_cell": false,
   "toc_position": {},
   "toc_section_display": true,
   "toc_window_display": false
  }
 },
 "nbformat": 4,
 "nbformat_minor": 5
}
